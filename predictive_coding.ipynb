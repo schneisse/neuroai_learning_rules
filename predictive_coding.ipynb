{
  "cells": [
    {
      "cell_type": "markdown",
      "metadata": {
        "id": "zLygbz278oF1"
      },
      "source": [
        "# Supervised learning using predictive coding\n",
        "\n",
        "This notebook illustrates how the predictive coding library can be used to train a predictive coding network on a supervised learning task (MNIST)."
      ]
    },
    {
      "cell_type": "markdown",
      "metadata": {
        "id": "tOeSG__s8oF3"
      },
      "source": [
        "[![Open In Colab](https://colab.research.google.com/assets/colab-badge.svg)](https://colab.research.google.com/github/Bogacz-Group/PredictiveCoding/blob/main/1_supervised_learning_pc.ipynb)"
      ]
    },
    {
      "cell_type": "code",
      "execution_count": 1,
      "metadata": {
        "colab": {
          "base_uri": "https://localhost:8080/"
        },
        "id": "JqMbw9PS8oF3",
        "outputId": "0b2d2879-4460-4627-cf66-4688cf076e8c"
      },
      "outputs": [],
      "source": [
        "# import pc library of the code is being run on google colab\n",
        "try:\n",
        "  import google.colab\n",
        "  !git clone https://github.com/Bogacz-Group/PredictiveCoding.git\n",
        "  ! cp -r PredictiveCoding/predictive_coding predictive_coding\n",
        "except ImportError:\n",
        "  pass"
      ]
    },
    {
      "cell_type": "code",
      "execution_count": 2,
      "metadata": {
        "colab": {
          "base_uri": "https://localhost:8080/"
        },
        "id": "fJO9KSFm8oF4",
        "outputId": "a16b6ec8-b53d-4dab-88ba-f3510c43d014"
      },
      "outputs": [
        {
          "name": "stdout",
          "output_type": "stream",
          "text": [
            "using cpu\n"
          ]
        }
      ],
      "source": [
        "import torch\n",
        "import torch.nn as nn\n",
        "import torch.optim as optim\n",
        "from torchvision import datasets, transforms\n",
        "import torch.nn.functional as F\n",
        "import random\n",
        "import numpy as np\n",
        "import os\n",
        "import matplotlib.pyplot as plt\n",
        "from tqdm import tqdm\n",
        "import copy\n",
        "\n",
        "import predictive_coding as pc\n",
        "\n",
        "torch.manual_seed(42)\n",
        "device = torch.device(\"cuda\" if torch.cuda.is_available() else \"cpu\")\n",
        "print(f'using {device}')"
      ]
    },
    {
      "cell_type": "code",
      "execution_count": 3,
      "metadata": {
        "colab": {
          "base_uri": "https://localhost:8080/"
        },
        "id": "g72NMl0x8oF5",
        "outputId": "94fbdffc-644c-4dd2-f020-1e7a181226db"
      },
      "outputs": [
        {
          "name": "stdout",
          "output_type": "stream",
          "text": [
            "# train images: 60000 and # test images: 10000\n"
          ]
        }
      ],
      "source": [
        "# load data\n",
        "transform = transforms.Compose([transforms.ToTensor(), transforms.Lambda(lambda x: torch.flatten(x))])\n",
        "train_dataset = datasets.MNIST('./data', download=True, train=True, transform=transform)\n",
        "test_dataset = datasets.MNIST('./data', download=True, train=False, transform=transform)\n",
        "\n",
        "batch_size = 500\n",
        "train_loader = torch.utils.data.DataLoader(train_dataset, batch_size=batch_size, shuffle=True)\n",
        "\n",
        "print(f'# train images: {len(train_dataset)} and # test images: {len(test_dataset)}')"
      ]
    },
    {
      "cell_type": "markdown",
      "metadata": {
        "id": "ZveDwPLX8oF5"
      },
      "source": [
        "### Defining a model\n",
        "A model can be initalised in the same way as pytorch model, with the addition of `pc.PCLayer()` to include latent variables in the model.\n",
        "\n",
        "A `PCLayer()` contains the activities of a layer of latent variables under `pclayer._x`. A `PCLayer()` also contains the energy associated with that activity under `pclayer._energy` which is computed with `0.5 *(inputs['mu'] - inputs['x'])**2` where `inputs['x']` is the activity of that layer and `inputs['mu']` is the input to that layer.\n",
        "\n",
        "Check out the `PCLayer()` class in `predictive_coding/pc_layer.py` for more information."
      ]
    },
    {
      "cell_type": "code",
      "execution_count": 4,
      "metadata": {
        "colab": {
          "base_uri": "https://localhost:8080/"
        },
        "id": "KbcZEBnH8oF5",
        "outputId": "7fdc4413-3532-434d-b2eb-3e7ca41d727b"
      },
      "outputs": [
        {
          "data": {
            "application/vnd.code.notebook.error": {
              "message": "module 'predictive_coding' has no attribute 'PCLayer'",
              "name": "AttributeError",
              "stack": "\u001b[0;31m---------------------------------------------------------------------------\u001b[0m\n\u001b[0;31mAttributeError\u001b[0m                            Traceback (most recent call last)\nCell \u001b[0;32mIn[4], line 10\u001b[0m\n\u001b[1;32m      4\u001b[0m activation_fn \u001b[38;5;241m=\u001b[39m nn\u001b[38;5;241m.\u001b[39mReLU\n\u001b[1;32m      5\u001b[0m loss_fn \u001b[38;5;241m=\u001b[39m \u001b[38;5;28;01mlambda\u001b[39;00m output, _target: \u001b[38;5;241m0.5\u001b[39m \u001b[38;5;241m*\u001b[39m (output \u001b[38;5;241m-\u001b[39m _target)\u001b[38;5;241m.\u001b[39mpow(\u001b[38;5;241m2\u001b[39m)\u001b[38;5;241m.\u001b[39msum() \u001b[38;5;66;03m# this loss function holds to the error of the output layer of the model\u001b[39;00m\n\u001b[1;32m      8\u001b[0m model \u001b[38;5;241m=\u001b[39m nn\u001b[38;5;241m.\u001b[39mSequential(\n\u001b[1;32m      9\u001b[0m     nn\u001b[38;5;241m.\u001b[39mLinear(input_size, hidden_size),\n\u001b[0;32m---> 10\u001b[0m     pc\u001b[38;5;241m.\u001b[39mPCLayer(),\n\u001b[1;32m     11\u001b[0m     activation_fn(),\n\u001b[1;32m     12\u001b[0m     nn\u001b[38;5;241m.\u001b[39mLinear(hidden_size, hidden_size),\n\u001b[1;32m     13\u001b[0m     pc\u001b[38;5;241m.\u001b[39mPCLayer(),\n\u001b[1;32m     14\u001b[0m     activation_fn(),\n\u001b[1;32m     15\u001b[0m     nn\u001b[38;5;241m.\u001b[39mLinear(hidden_size, output_size)\n\u001b[1;32m     16\u001b[0m )\n\u001b[1;32m     17\u001b[0m model\u001b[38;5;241m.\u001b[39mtrain()   \u001b[38;5;66;03m# set the model to training mode\u001b[39;00m\n\u001b[1;32m     18\u001b[0m model\u001b[38;5;241m.\u001b[39mto(device)\n\n\u001b[0;31mAttributeError\u001b[0m: module 'predictive_coding' has no attribute 'PCLayer'"
            }
          },
          "execution_count": 4,
          "metadata": {},
          "output_type": "execute_result"
        }
      ],
      "source": [
        "input_size = 28*28  # 28x28 images\n",
        "hidden_size = 256\n",
        "output_size = 10    # 10 classes\n",
        "activation_fn = nn.ReLU\n",
        "loss_fn = lambda output, _target: 0.5 * (output - _target).pow(2).sum() # this loss function holds to the error of the output layer of the model\n",
        "\n",
        "\n",
        "model = nn.Sequential(\n",
        "    nn.Linear(input_size, hidden_size),\n",
        "    pc.PCLayer(),\n",
        "    activation_fn(),\n",
        "    nn.Linear(hidden_size, hidden_size),\n",
        "    pc.PCLayer(),\n",
        "    activation_fn(),\n",
        "    nn.Linear(hidden_size, output_size)\n",
        ")\n",
        "model.train()   # set the model to training mode\n",
        "model.to(device)"
      ]
    },
    {
      "cell_type": "markdown",
      "metadata": {
        "id": "YGR08KhU8oF5"
      },
      "source": [
        "### Defining a model trainer\n",
        "The predictive coding library is based around a `pc.PCTrainer()`.\n",
        "\n",
        "This trainer orchestrate the activity and parameter updates of the model to minimise the total error of the model. The total error is given by the sum of the energies in each pclayer as well as the loss functions."
      ]
    },
    {
      "cell_type": "code",
      "execution_count": 5,
      "metadata": {
        "id": "zrTV_m728oF6"
      },
      "outputs": [],
      "source": [
        "# number of inference iterations where the latent states x are updated. Inference does not run till convergence but for a fixed number of iterations\n",
        "T = 20\n",
        "\n",
        "# options for the update of the latent state x\n",
        "optimizer_x_fn = optim.SGD          # optimizer for latent state x, SGD perform gradient descent. Other alternative are Adam, RMSprop, etc.\n",
        "optimizer_x_kwargs = {'lr': 0.01}   # optimizer parameters for latent state x to pass to the optimizer. The best learning rate will depend on the task and the optimiser.\n",
        "                                    # Other parameters such as momentum, weight_decay could also be set here with additional elements, e.g., \"momentum\": 0.9, \"weight_decay\": 0.01\n",
        "\n",
        "# options for the update of the parameters p\n",
        "update_p_at = 'last'                # update parameters p at the last iteration, can be set to 'all' to implement ipc (https://arxiv.org/abs/2212.00720)\n",
        "optimizer_p_fn = optim.Adam         # optimizer for parameters p\n",
        "optimizer_p_kwargs = {'lr': 0.001}  # optimizer parameters for parameters p, 0.001 is a good starting point for Adam, but it should be adjusted for the task\n",
        "\n",
        "trainer = pc.PCTrainer(model,\n",
        "    T = T,\n",
        "    optimizer_x_fn = optimizer_x_fn,\n",
        "    optimizer_x_kwargs = optimizer_x_kwargs,\n",
        "    update_p_at = update_p_at,\n",
        "    optimizer_p_fn = optimizer_p_fn,\n",
        "    optimizer_p_kwargs = optimizer_p_kwargs,\n",
        ")"
      ]
    },
    {
      "cell_type": "code",
      "execution_count": 6,
      "metadata": {
        "id": "thtspenN8oF6"
      },
      "outputs": [],
      "source": [
        "# get classification accuracy of the model\n",
        "def test(model, dataset, batch_size=1000):\n",
        "    model.eval()\n",
        "    test_loader = torch.utils.data.DataLoader(dataset, batch_size=batch_size, shuffle=False)\n",
        "    correct = 0\n",
        "    total = 0\n",
        "    for data, label in test_loader:\n",
        "        data, label = data.to(device), label.to(device)\n",
        "        pred = model(data)\n",
        "        _, predicted = torch.max(pred, -1)\n",
        "        total += label.size(0)\n",
        "        correct += (predicted == label).sum().item()\n",
        "    model.train()\n",
        "    return round(correct / total, 4)"
      ]
    },
    {
      "cell_type": "markdown",
      "metadata": {
        "id": "q7c9AIGY8oF6"
      },
      "source": [
        "### Train the model\n",
        "`trainer.train_on_batch()` is called for each batch of data. This function updates the activity of the latent states and the parameters for the given batch of data."
      ]
    },
    {
      "cell_type": "code",
      "execution_count": 7,
      "metadata": {
        "colab": {
          "base_uri": "https://localhost:8080/",
          "height": 623
        },
        "id": "A0y1zzbP8oF6",
        "outputId": "48b3e7df-1ed6-4793-b724-7ea4ef5f3686"
      },
      "outputs": [
        {
          "name": "stderr",
          "output_type": "stream",
          "text": [
            "Epoch 1 - Test accuracy: 0.103: 100%|██████████| 120/120 [00:17<00:00,  6.70it/s]\n",
            "Epoch 2 - Test accuracy: 0.959: 100%|██████████| 120/120 [00:18<00:00,  6.53it/s]\n",
            "Epoch 3 - Test accuracy: 0.971: 100%|██████████| 120/120 [00:16<00:00,  7.27it/s]\n",
            "Epoch 4 - Test accuracy: 0.975: 100%|██████████| 120/120 [00:14<00:00,  8.55it/s]\n",
            "Epoch 5 - Test accuracy: 0.979: 100%|██████████| 120/120 [00:13<00:00,  8.91it/s]\n",
            "Epoch 6 - Test accuracy: 0.982: 100%|██████████| 120/120 [00:13<00:00,  8.84it/s]\n",
            "Epoch 7 - Test accuracy: 0.984: 100%|██████████| 120/120 [00:13<00:00,  8.77it/s]\n",
            "Epoch 8 - Test accuracy: 0.983: 100%|██████████| 120/120 [00:13<00:00,  9.00it/s]\n",
            "Epoch 9 - Test accuracy: 0.983: 100%|██████████| 120/120 [00:14<00:00,  8.24it/s]\n",
            "Epoch 10 - Test accuracy: 0.983: 100%|██████████| 120/120 [00:13<00:00,  8.67it/s]\n"
          ]
        },
        {
          "data": {
            "image/png": "[encoded data removed]",
            "text/plain": [
              "<Figure size 640x480 with 1 Axes>"
            ]
          },
          "metadata": {},
          "output_type": "display_data"
        }
      ],
      "source": [
        "epochs = 10\n",
        "\n",
        "test_acc = np.zeros(epochs + 1)\n",
        "test_acc[0] = test(model, test_dataset)\n",
        "for epoch in range(epochs):\n",
        "    # Initialize the tqdm progress bar\n",
        "    with tqdm(train_loader, desc=f'Epoch {epoch+1} - Test accuracy: {test_acc[epoch]:.3f}') as pbar:\n",
        "        for data, label in pbar:\n",
        "            data, label = data.to(device), label.to(device)\n",
        "            # convert labels to one-hot encoding\n",
        "            label = F.one_hot(label, num_classes=output_size).float()\n",
        "            trainer.train_on_batch(\n",
        "                inputs=data,\n",
        "                loss_fn=loss_fn,\n",
        "                loss_fn_kwargs={'_target': label}\n",
        "            )\n",
        "    test_acc[epoch + 1] = test(model, test_dataset)\n",
        "    pbar.set_description(f'Epoch {epoch + 1} - Test accuracy: {test_acc[epoch + 1]:.3f}')\n",
        "\n",
        "plt.plot(test_acc)\n",
        "plt.xlabel('Epoch')\n",
        "plt.ylabel('Test Accuracy')\n",
        "plt.show()"
      ]
    },
    {
      "cell_type": "markdown",
      "metadata": {
        "id": "wIlwOcPP8oF6"
      },
      "source": [
        "The trained model achieves a classification accuracy of above 95% on MNIST which is comparable to a backpropagation trained model with the same architecture."
      ]
    }
  ],
  "metadata": {
    "accelerator": "GPU",
    "colab": {
      "gpuType": "T4",
      "provenance": []
    },
    "kernelspec": {
      "display_name": "Python 3",
      "name": "python3"
    },
    "language_info": {
      "codemirror_mode": {
        "name": "ipython",
        "version": 3
      },
      "file_extension": ".py",
      "mimetype": "text/x-python",
      "name": "python",
      "nbconvert_exporter": "python",
      "pygments_lexer": "ipython3",
      "version": "3.11.5"
    }
  },
  "nbformat": 4,
  "nbformat_minor": 0
}
