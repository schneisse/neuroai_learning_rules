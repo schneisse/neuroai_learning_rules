{
  "nbformat": 4,
  "nbformat_minor": 0,
  "metadata": {
    "colab": {
      "provenance": [],
      "gpuType": "T4"
    },
    "kernelspec": {
      "name": "python3",
      "display_name": "Python 3"
    },
    "language_info": {
      "name": "python"
    },
    "accelerator": "GPU"
  },
  "cells": [
    {
      "cell_type": "code",
      "source": [
        "# Install required libraries\n",
        "!pip install tqdm scikit-learn\n",
        "\n",
        "# Import necessary libraries\n",
        "import numpy as np\n",
        "import torch\n",
        "import torch.nn as nn\n",
        "import torch.nn.functional as F\n",
        "import torch.optim as optim\n",
        "import torchvision\n",
        "import torchvision.transforms as transforms\n",
        "import matplotlib.pyplot as plt\n",
        "from tqdm import tqdm\n",
        "import random\n",
        "from sklearn.metrics import classification_report, confusion_matrix, f1_score\n",
        "\n",
        "# Define the transformation for the dataset\n",
        "transform = transforms.Compose([\n",
        "    transforms.ToTensor(),\n",
        "    transforms.Normalize((0.5,), (0.5,))\n",
        "])\n",
        "\n",
        "# Load the MNIST dataset\n",
        "trainset = torchvision.datasets.MNIST(root='./data', train=True, download=True, transform=transform)\n",
        "testset = torchvision.datasets.MNIST(root='./data', train=False, download=True, transform=transform)\n",
        "\n",
        "# Define model architectures\n",
        "class SimpleNN(nn.Module):\n",
        "    def __init__(self):\n",
        "        super(SimpleNN, self).__init__()\n",
        "        self.fc1 = nn.Linear(28*28, 512)\n",
        "        self.fc2 = nn.Linear(512, 512)\n",
        "        self.fc3 = nn.Linear(512, 10)\n",
        "        self.dropout = nn.Dropout(0.2)\n",
        "\n",
        "    def forward(self, x):\n",
        "        x = x.view(-1, 28*28)\n",
        "        x = torch.relu(self.fc1(x))\n",
        "        x = self.dropout(x)\n",
        "        x = torch.relu(self.fc2(x))\n",
        "        x = self.dropout(x)\n",
        "        x = self.fc3(x)\n",
        "        return x\n",
        "\n",
        "class FeedbackAlignmentLinear(nn.Linear):\n",
        "    def __init__(self, in_features, out_features):\n",
        "        super().__init__(in_features, out_features)\n",
        "        self.feedback_weights = nn.Parameter(torch.randn(out_features, in_features) * 0.05, requires_grad=False)\n",
        "\n",
        "    def forward(self, input):\n",
        "        return F.linear(input, self.weight, self.bias)\n",
        "\n",
        "    def backward(self, grad_output):\n",
        "        return F.linear(grad_output, self.feedback_weights)\n",
        "\n",
        "class SimpleNNFeedbackAlignment(nn.Module):\n",
        "    def __init__(self):\n",
        "        super().__init__()\n",
        "        self.fc1 = FeedbackAlignmentLinear(28*28, 512)\n",
        "        self.fc2 = FeedbackAlignmentLinear(512, 512)\n",
        "        self.fc3 = FeedbackAlignmentLinear(512, 10)\n",
        "        self.dropout = nn.Dropout(0.2)\n",
        "\n",
        "    def forward(self, x):\n",
        "        x = x.view(-1, 28*28)\n",
        "        x = torch.relu(self.fc1(x))\n",
        "        x = self.dropout(x)\n",
        "        x = torch.relu(self.fc2(x))\n",
        "        x = self.dropout(x)\n",
        "        x = self.fc3(x)\n",
        "        return x\n",
        "\n",
        "# Evaluation function\n",
        "def evaluate(model, dataloader):\n",
        "    model.eval()\n",
        "    correct = 0\n",
        "    total = 0\n",
        "    with torch.no_grad():\n",
        "        for data in dataloader:\n",
        "            images, labels = data\n",
        "            outputs = model(images)\n",
        "            _, predicted = torch.max(outputs.data, 1)\n",
        "            total += labels.size(0)\n",
        "            correct += (predicted == labels).sum().item()\n",
        "    return correct / total\n",
        "\n",
        "# Training functions\n",
        "def train_backprop(model, trainloader, learning_rate, epochs):\n",
        "    criterion = nn.CrossEntropyLoss()\n",
        "    optimizer = optim.Adam(model.parameters(), lr=learning_rate)\n",
        "    for epoch in range(epochs):\n",
        "        running_loss = 0.0\n",
        "        for data in tqdm(trainloader, desc=f\"Epoch {epoch+1}/{epochs}\", leave=False):\n",
        "            inputs, labels = data\n",
        "            optimizer.zero_grad()\n",
        "            outputs = model(inputs)\n",
        "            loss = criterion(outputs, labels)\n",
        "            loss.backward()\n",
        "            optimizer.step()\n",
        "            running_loss += loss.item()\n",
        "        print(f\"Epoch [{epoch + 1}/{epochs}], Loss: {running_loss / len(trainloader):.4f}\")\n",
        "\n",
        "def train_weight_perturbation(model, trainloader, learning_rate, epochs):\n",
        "    criterion = nn.CrossEntropyLoss()\n",
        "    for epoch in range(epochs):\n",
        "        running_loss = 0.0\n",
        "        for data in tqdm(trainloader, desc=f\"Epoch {epoch+1}/{epochs}\", leave=False):\n",
        "            inputs, labels = data\n",
        "            outputs = model(inputs)\n",
        "            loss = criterion(outputs, labels)\n",
        "            with torch.no_grad():\n",
        "                for param in model.parameters():\n",
        "                    perturbation = torch.randn_like(param) * learning_rate * 0.01\n",
        "                    param_try = param + perturbation\n",
        "                    outputs_try = model(inputs)\n",
        "                    loss_try = criterion(outputs_try, labels)\n",
        "                    if loss_try < loss:\n",
        "                        param.data.copy_(param_try)\n",
        "                        loss = loss_try\n",
        "            running_loss += loss.item()\n",
        "        print(f\"Epoch [{epoch + 1}/{epochs}], Loss: {running_loss / len(trainloader):.4f}\")\n",
        "\n",
        "def train_feedback_alignment(model, trainloader, learning_rate, epochs):\n",
        "    criterion = nn.CrossEntropyLoss()\n",
        "    for epoch in range(epochs):\n",
        "        running_loss = 0.0\n",
        "        for data in tqdm(trainloader, desc=f\"Epoch {epoch+1}/{epochs}\", leave=False):\n",
        "            inputs, labels = data\n",
        "            h1 = torch.relu(model.fc1(inputs.view(-1, 28*28)))\n",
        "            h1 = model.dropout(h1)\n",
        "            h2 = torch.relu(model.fc2(h1))\n",
        "            h2 = model.dropout(h2)\n",
        "            outputs = model.fc3(h2)\n",
        "            loss = criterion(outputs, labels)\n",
        "            grad_output = torch.autograd.grad(loss, outputs, retain_graph=True)[0]\n",
        "            grad_h2 = model.fc3.backward(grad_output)\n",
        "            grad_h1 = model.fc2.backward(grad_h2)\n",
        "            grad_input = model.fc1.backward(grad_h1)\n",
        "            with torch.no_grad():\n",
        "                model.fc3.weight -= learning_rate * torch.mm(grad_output.t(), h2)\n",
        "                model.fc2.weight -= learning_rate * torch.mm(grad_h2.t(), h1)\n",
        "                model.fc1.weight -= learning_rate * torch.mm(grad_h1.t(), inputs.view(-1, 28*28))\n",
        "            running_loss += loss.item()\n",
        "        print(f\"Epoch [{epoch + 1}/{epochs}], Loss: {running_loss / len(trainloader):.4f}\")\n",
        "\n",
        "def train_hybrid(model, trainloader, learning_rate, epochs):\n",
        "    criterion = nn.CrossEntropyLoss()\n",
        "    for epoch in range(epochs):\n",
        "        running_loss = 0.0\n",
        "        for data in tqdm(trainloader, desc=f\"Epoch {epoch+1}/{epochs}\", leave=False):\n",
        "            inputs, labels = data\n",
        "            outputs = model(inputs)\n",
        "            loss = criterion(outputs, labels)\n",
        "\n",
        "            # Feedback alignment\n",
        "            grad_output = torch.autograd.grad(loss, outputs, retain_graph=True)[0]\n",
        "            grad_h2 = model.fc3.backward(grad_output)\n",
        "            grad_h1 = model.fc2.backward(grad_h2)\n",
        "            grad_input = model.fc1.backward(grad_h1)\n",
        "\n",
        "            # Weight perturbation\n",
        "            with torch.no_grad():\n",
        "                for param in model.parameters():\n",
        "                    perturbation = torch.randn_like(param) * learning_rate * 0.01\n",
        "                    param_try = param + perturbation\n",
        "                    outputs_try = model(inputs)\n",
        "                    loss_try = criterion(outputs_try, labels)\n",
        "                    if loss_try < loss:\n",
        "                        param.data.copy_(param_try)\n",
        "                        loss = loss_try\n",
        "\n",
        "            running_loss += loss.item()\n",
        "        print(f\"Epoch [{epoch + 1}/{epochs}], Loss: {running_loss / len(trainloader):.4f}\")\n",
        "\n",
        "# Function to measure bias and variance of gradients\n",
        "def measure_gradient_stats(model, dataloader):\n",
        "    criterion = nn.CrossEntropyLoss()\n",
        "    gradients = []\n",
        "    for data in dataloader:\n",
        "        inputs, labels = data\n",
        "        outputs = model(inputs)\n",
        "        loss = criterion(outputs, labels)\n",
        "        loss.backward()\n",
        "        grad = torch.cat([p.grad.flatten() for p in model.parameters() if p.grad is not None])\n",
        "        gradients.append(grad.detach().cpu().numpy())\n",
        "    gradients = np.array(gradients)\n",
        "    bias = np.mean(gradients, axis=0)\n",
        "    variance = np.var(gradients, axis=0)\n",
        "    return np.mean(bias), np.mean(variance)\n",
        "\n",
        "# Function for online learning (batch size = 1)\n",
        "def online_learning(model, trainset, learning_rate, epochs):\n",
        "    criterion = nn.CrossEntropyLoss()\n",
        "    optimizer = optim.SGD(model.parameters(), lr=learning_rate)\n",
        "    for epoch in range(epochs):\n",
        "        running_loss = 0.0\n",
        "        for i in tqdm(range(len(trainset)), desc=f\"Epoch {epoch+1}/{epochs}\", leave=False):\n",
        "            inputs, labels = trainset[i]\n",
        "            inputs = inputs.unsqueeze(0)\n",
        "            labels = torch.tensor([labels])\n",
        "            optimizer.zero_grad()\n",
        "            outputs = model(inputs)\n",
        "            loss = criterion(outputs, labels)\n",
        "            loss.backward()\n",
        "            optimizer.step()\n",
        "            running_loss += loss.item()\n",
        "        print(f\"Epoch [{epoch + 1}/{epochs}], Loss: {running_loss / len(trainset):.4f}\")\n",
        "\n",
        "# Function for non-stationary data\n",
        "def non_stationary_learning(model, trainset, learning_rate, epochs):\n",
        "    criterion = nn.CrossEntropyLoss()\n",
        "    optimizer = optim.SGD(model.parameters(), lr=learning_rate)\n",
        "    for epoch in range(epochs):\n",
        "        running_loss = 0.0\n",
        "        # Simulate non-stationarity by randomly permuting labels\n",
        "        permuted_labels = torch.randperm(len(trainset.targets))\n",
        "        trainset.targets = trainset.targets[permuted_labels]\n",
        "        trainloader = torch.utils.data.DataLoader(trainset, batch_size=128, shuffle=True)\n",
        "        for inputs, labels in tqdm(trainloader, desc=f\"Epoch {epoch+1}/{epochs}\", leave=False):\n",
        "            optimizer.zero_grad()\n",
        "            outputs = model(inputs)\n",
        "            loss = criterion(outputs, labels)\n",
        "            loss.backward()\n",
        "            optimizer.step()\n",
        "            running_loss += loss.item()\n",
        "        print(f\"Epoch [{epoch + 1}/{epochs}], Loss: {running_loss / len(trainloader):.4f}\")\n",
        "\n",
        "# Performance measurement function\n",
        "def measure_performance(model, trainloader, testloader, learning_rate, epochs, algo='backprop'):\n",
        "    train_funcs = {\n",
        "        'backprop': train_backprop,\n",
        "        'weight_perturbation': train_weight_perturbation,\n",
        "        'feedback_alignment': train_feedback_alignment,\n",
        "        'hybrid': train_hybrid\n",
        "    }\n",
        "    train_func = train_funcs[algo]\n",
        "\n",
        "    performance_threshold = 0.90\n",
        "    convergence_epoch = None\n",
        "    accuracies = []\n",
        "    grad_biases = []\n",
        "    grad_variances = []\n",
        "\n",
        "    for epoch in range(epochs):\n",
        "        train_func(model, trainloader, learning_rate, 1)\n",
        "        accuracy = evaluate(model, testloader)\n",
        "        bias, variance = measure_gradient_stats(model, trainloader)\n",
        "        accuracies.append(accuracy)\n",
        "        grad_biases.append(bias)\n",
        "        grad_variances.append(variance)\n",
        "        print(f'Epoch [{epoch + 1}/{epochs}], Accuracy: {accuracy:.4f}, Gradient Bias: {bias:.4f}, Gradient Variance: {variance:.4f}')\n",
        "        if accuracy >= performance_threshold and convergence_epoch is None:\n",
        "            convergence_epoch = epoch + 1\n",
        "\n",
        "    final_accuracy = accuracies[-1]\n",
        "    print(f'Final Test Accuracy: {final_accuracy}')\n",
        "    print(f'Convergence Epoch: {convergence_epoch if convergence_epoch else \"Did not converge\"}')\n",
        "\n",
        "    # Plot accuracy, gradient bias, and gradient variance\n",
        "    plt.figure(figsize=(15, 5))\n",
        "    plt.subplot(1, 3, 1)\n",
        "    plt.plot(accuracies)\n",
        "    plt.title('Accuracy over Epochs')\n",
        "    plt.subplot(1, 3, 2)\n",
        "    plt.plot(grad_biases)\n",
        "    plt.title('Gradient Bias over Epochs')\n",
        "    plt.subplot(1, 3, 3)\n",
        "    plt.plot(grad_variances)\n",
        "    plt.title('Gradient Variance over Epochs')\n",
        "    plt.tight_layout()\n",
        "    plt.show()\n",
        "\n",
        "    # Measure sensitivity to learning rate\n",
        "    learning_rates = [1e-5, 1e-4, 1e-3, 1e-2, 1e-1]\n",
        "    lr_accuracies = []\n",
        "    for lr in learning_rates:\n",
        "        model.apply(lambda m: m.reset_parameters() if hasattr(m, 'reset_parameters') else None)\n",
        "        train_func(model, trainloader, lr, epochs)\n",
        "        lr_accuracies.append(evaluate(model, testloader))\n",
        "\n",
        "    plt.figure(figsize=(10, 5))\n",
        "    plt.plot(learning_rates, lr_accuracies)\n",
        "    plt.xscale('log')\n",
        "    plt.xlabel('Learning Rate')\n",
        "    plt.ylabel('Accuracy')\n",
        "    plt.title(f'Sensitivity to Learning Rate - {algo.capitalize()}')\n",
        "    plt.show()\n",
        "\n",
        "    # Measure robustness against noise\n",
        "    noise_levels = [0.0, 0.1, 0.2, 0.3, 0.4, 0.5]\n",
        "    noise_accuracies = []\n",
        "    for noise in noise_levels:\n",
        "        noisy_testset = torchvision.datasets.MNIST(root='./data', train=False, download=True, transform=transform)\n",
        "        noisy_testset.data = noisy_testset.data + torch.randn_like(noisy_testset.data.float()) * noise * 255\n",
        "        noisy_testset.data = torch.clamp(noisy_testset.data, 0, 255).byte()\n",
        "        noisy_testloader = torch.utils.data.DataLoader(noisy_testset, batch_size=128, shuffle=False)\n",
        "        noise_accuracies.append(evaluate(model, noisy_testloader))\n",
        "\n",
        "    plt.figure(figsize=(10, 5))\n",
        "    plt.plot(noise_levels, noise_accuracies)\n",
        "    plt.xlabel('Noise Level')\n",
        "    plt.ylabel('Accuracy')\n",
        "    plt.title(f'Robustness Against Noise - {algo.capitalize()}')\n",
        "    plt.show()\n",
        "\n",
        "# Main function to run all tests\n",
        "def main():\n",
        "    learning_rate = 1e-3\n",
        "    epochs = 10\n",
        "\n",
        "    algorithms = ['backprop', 'weight_perturbation', 'feedback_alignment', 'hybrid']\n",
        "    results = {}\n",
        "\n",
        "    for algo in algorithms:\n",
        "        print(f\"\\nTesting {algo.capitalize()}\")\n",
        "        if algo == 'feedback_alignment':\n",
        "            model = SimpleNNFeedbackAlignment()\n",
        "        else:\n",
        "            model = SimpleNN()\n",
        "\n",
        "        trainloader = torch.utils.data.DataLoader(trainset, batch_size=128, shuffle=True)\n",
        "        testloader = torch.utils.data.DataLoader(testset, batch_size=128, shuffle=False)\n",
        "\n",
        "        measure_performance(model, trainloader, testloader, learning_rate, epochs, algo=algo)\n",
        "\n",
        "        # Online learning\n",
        "        print(f\"\\nOnline Learning for {algo.capitalize()}\")\n",
        "        online_learning(model, trainset, learning_rate, epochs)\n",
        "\n",
        "        # Non-stationary learning\n",
        "        print(f\"\\nNon-stationary Learning for {algo.capitalize()}\")\n",
        "        non_stationary_learning(model, trainset, learning_rate, epochs)\n",
        "\n",
        "        # Store results\n",
        "        results[algo] = {\n",
        "            'final_accuracy': evaluate(model, testloader),\n",
        "            'online_accuracy': evaluate(model, testloader),\n",
        "            'non_stationary_accuracy': evaluate(model, testloader)\n",
        "        }\n",
        "\n",
        "    # Analyze results\n",
        "    analyze_results(results)\n",
        "\n",
        "def analyze_results(results):\n",
        "    print(\"\\nAnalysis of Results:\")\n",
        "\n",
        "    # Compare performance\n",
        "    print(\"\\nFinal Accuracies:\")\n",
        "    for algo, res in results.items():\n",
        "        print(f\"{algo.capitalize()}: {res['final_accuracy']:.4f}\")\n",
        "\n",
        "    # Compare online learning performance\n",
        "    print(\"\\nOnline Learning Accuracies:\")\n",
        "    for algo, res in results.items():\n",
        "        print(f\"{algo.capitalize()}: {res['online_accuracy']:.4f}\")\n",
        "\n",
        "    # Compare non-stationary learning performance\n",
        "    print(\"\\nNon-stationary Learning Accuracies:\")\n",
        "    for algo, res in results.items():\n",
        "        print(f\"{algo.capitalize()}: {res['non_stationary_accuracy']:.4f}\")\n",
        "\n",
        "    # Biological plausibility analysis\n",
        "    bio_plausibility = {\n",
        "        'backprop': 1,\n",
        "        'weight_perturbation': 3,\n",
        "        'feedback_alignment': 4,\n",
        "        'hybrid': 2\n",
        "    }\n",
        "\n",
        "    print(\"\\nBiological Plausibility vs Performance:\")\n",
        "    for algo, res in results.items():\n",
        "        print(f\"{algo.capitalize()}: Plausibility = {bio_plausibility[algo]}, Performance = {res['final_accuracy']:.4f}\")\n",
        "\n",
        "    # Correlation analysis\n",
        "    plausibilities = [bio_plausibility[algo] for algo in results.keys()]\n",
        "    performances = [res['final_accuracy'] for res in results.values()]\n",
        "    correlation = np.corrcoef(plausibilities, performances)[0, 1]\n",
        "    print(f\"\\nCorrelation between biological plausibility and performance: {correlation:.4f}\")\n",
        "\n",
        "    # Visualization\n",
        "    plt.figure(figsize=(10, 6))\n",
        "    plt.scatter(plausibilities, performances)\n",
        "    for i, algo in enumerate(results.keys()):\n",
        "        plt.annotate(algo, (plausibilities[i], performances[i]))\n",
        "    plt.xlabel('Biological Plausibility')\n",
        "    plt.ylabel('Performance (Accuracy)')\n",
        "    plt.title('Biological Plausibility vs Performance')\n",
        "    plt.show()\n",
        "\n",
        "if __name__ == \"__main__\":\n",
        "    main()"
      ],
      "metadata": {
        "colab": {
          "base_uri": "https://localhost:8080/",
          "height": 1000
        },
        "id": "VZS6fDn6Nl9K",
        "outputId": "06b4233c-e631-48ad-ea87-2e1a7d42fca4"
      },
      "execution_count": null,
      "outputs": [
        {
          "output_type": "stream",
          "name": "stdout",
          "text": [
            "Requirement already satisfied: tqdm in /usr/local/lib/python3.10/dist-packages (4.66.4)\n",
            "Requirement already satisfied: scikit-learn in /usr/local/lib/python3.10/dist-packages (1.2.2)\n",
            "Requirement already satisfied: numpy>=1.17.3 in /usr/local/lib/python3.10/dist-packages (from scikit-learn) (1.25.2)\n",
            "Requirement already satisfied: scipy>=1.3.2 in /usr/local/lib/python3.10/dist-packages (from scikit-learn) (1.11.4)\n",
            "Requirement already satisfied: joblib>=1.1.1 in /usr/local/lib/python3.10/dist-packages (from scikit-learn) (1.4.2)\n",
            "Requirement already satisfied: threadpoolctl>=2.0.0 in /usr/local/lib/python3.10/dist-packages (from scikit-learn) (3.5.0)\n",
            "\n",
            "Testing Backprop\n"
          ]
        },
        {
          "output_type": "stream",
          "name": "stderr",
          "text": []
        },
        {
          "output_type": "stream",
          "name": "stdout",
          "text": [
            "Epoch [1/1], Loss: 0.3507\n",
            "Epoch [1/10], Accuracy: 0.9526, Gradient Bias: 0.0064, Gradient Variance: 0.0045\n"
          ]
        },
        {
          "output_type": "stream",
          "name": "stderr",
          "text": []
        },
        {
          "output_type": "stream",
          "name": "stdout",
          "text": [
            "Epoch [1/1], Loss: 0.1406\n",
            "Epoch [2/10], Accuracy: 0.9636, Gradient Bias: 0.0004, Gradient Variance: 0.0055\n"
          ]
        },
        {
          "output_type": "stream",
          "name": "stderr",
          "text": []
        },
        {
          "output_type": "stream",
          "name": "stdout",
          "text": [
            "Epoch [1/1], Loss: 0.1047\n",
            "Epoch [3/10], Accuracy: 0.9650, Gradient Bias: 0.0025, Gradient Variance: 0.0042\n"
          ]
        },
        {
          "output_type": "stream",
          "name": "stderr",
          "text": []
        },
        {
          "output_type": "stream",
          "name": "stdout",
          "text": [
            "Epoch [1/1], Loss: 0.0826\n",
            "Epoch [4/10], Accuracy: 0.9738, Gradient Bias: 0.0010, Gradient Variance: 0.0024\n"
          ]
        },
        {
          "output_type": "stream",
          "name": "stderr",
          "text": []
        },
        {
          "output_type": "stream",
          "name": "stdout",
          "text": [
            "Epoch [1/1], Loss: 0.0703\n",
            "Epoch [5/10], Accuracy: 0.9769, Gradient Bias: 0.0000, Gradient Variance: 0.0004\n"
          ]
        },
        {
          "output_type": "stream",
          "name": "stderr",
          "text": []
        },
        {
          "output_type": "stream",
          "name": "stdout",
          "text": [
            "Epoch [1/1], Loss: 0.0619\n",
            "Epoch [6/10], Accuracy: 0.9737, Gradient Bias: -0.0003, Gradient Variance: 0.0013\n"
          ]
        },
        {
          "output_type": "stream",
          "name": "stderr",
          "text": []
        },
        {
          "output_type": "stream",
          "name": "stdout",
          "text": [
            "Epoch [1/1], Loss: 0.0517\n",
            "Epoch [7/10], Accuracy: 0.9707, Gradient Bias: 0.0010, Gradient Variance: 0.0024\n"
          ]
        },
        {
          "output_type": "stream",
          "name": "stderr",
          "text": []
        },
        {
          "output_type": "stream",
          "name": "stdout",
          "text": [
            "Epoch [1/1], Loss: 0.0471\n",
            "Epoch [8/10], Accuracy: 0.9739, Gradient Bias: -0.0012, Gradient Variance: 0.0019\n"
          ]
        },
        {
          "output_type": "stream",
          "name": "stderr",
          "text": []
        },
        {
          "output_type": "stream",
          "name": "stdout",
          "text": [
            "Epoch [1/1], Loss: 0.0444\n",
            "Epoch [9/10], Accuracy: 0.9758, Gradient Bias: -0.0006, Gradient Variance: 0.0021\n"
          ]
        },
        {
          "output_type": "stream",
          "name": "stderr",
          "text": []
        },
        {
          "output_type": "stream",
          "name": "stdout",
          "text": [
            "Epoch [1/1], Loss: 0.0402\n",
            "Epoch [10/10], Accuracy: 0.9762, Gradient Bias: 0.0004, Gradient Variance: 0.0004\n",
            "Final Test Accuracy: 0.9762\n",
            "Convergence Epoch: 1\n"
          ]
        },
        {
          "output_type": "display_data",
          "data": {
            "text/plain": [
              "<Figure size 1500x500 with 3 Axes>"
            ],
            "image/png": "[encoded data removed]"
          },
          "metadata": {}
        },
        {
          "output_type": "stream",
          "name": "stderr",
          "text": []
        },
        {
          "output_type": "stream",
          "name": "stdout",
          "text": [
            "Epoch [1/10], Loss: 1.6924\n"
          ]
        },
        {
          "output_type": "stream",
          "name": "stderr",
          "text": []
        },
        {
          "output_type": "stream",
          "name": "stdout",
          "text": [
            "Epoch [2/10], Loss: 0.7674\n"
          ]
        },
        {
          "output_type": "stream",
          "name": "stderr",
          "text": []
        },
        {
          "output_type": "stream",
          "name": "stdout",
          "text": [
            "Epoch [3/10], Loss: 0.5216\n"
          ]
        },
        {
          "output_type": "stream",
          "name": "stderr",
          "text": []
        },
        {
          "output_type": "stream",
          "name": "stdout",
          "text": [
            "Epoch [4/10], Loss: 0.4322\n"
          ]
        },
        {
          "output_type": "stream",
          "name": "stderr",
          "text": []
        },
        {
          "output_type": "stream",
          "name": "stdout",
          "text": [
            "Epoch [5/10], Loss: 0.3865\n"
          ]
        },
        {
          "output_type": "stream",
          "name": "stderr",
          "text": []
        },
        {
          "output_type": "stream",
          "name": "stdout",
          "text": [
            "Epoch [6/10], Loss: 0.3581\n"
          ]
        },
        {
          "output_type": "stream",
          "name": "stderr",
          "text": []
        },
        {
          "output_type": "stream",
          "name": "stdout",
          "text": [
            "Epoch [7/10], Loss: 0.3378\n"
          ]
        },
        {
          "output_type": "stream",
          "name": "stderr",
          "text": []
        },
        {
          "output_type": "stream",
          "name": "stdout",
          "text": [
            "Epoch [8/10], Loss: 0.3224\n"
          ]
        },
        {
          "output_type": "stream",
          "name": "stderr",
          "text": []
        },
        {
          "output_type": "stream",
          "name": "stdout",
          "text": [
            "Epoch [9/10], Loss: 0.3095\n"
          ]
        },
        {
          "output_type": "stream",
          "name": "stderr",
          "text": []
        },
        {
          "output_type": "stream",
          "name": "stdout",
          "text": [
            "Epoch [10/10], Loss: 0.2987\n"
          ]
        },
        {
          "output_type": "stream",
          "name": "stderr",
          "text": []
        },
        {
          "output_type": "stream",
          "name": "stdout",
          "text": [
            "Epoch [1/10], Loss: 0.6046\n"
          ]
        },
        {
          "output_type": "stream",
          "name": "stderr",
          "text": []
        },
        {
          "output_type": "stream",
          "name": "stdout",
          "text": [
            "Epoch [2/10], Loss: 0.2749\n"
          ]
        },
        {
          "output_type": "stream",
          "name": "stderr",
          "text": []
        },
        {
          "output_type": "stream",
          "name": "stdout",
          "text": [
            "Epoch [3/10], Loss: 0.2127\n"
          ]
        },
        {
          "output_type": "stream",
          "name": "stderr",
          "text": []
        },
        {
          "output_type": "stream",
          "name": "stdout",
          "text": [
            "Epoch [4/10], Loss: 0.1705\n"
          ]
        },
        {
          "output_type": "stream",
          "name": "stderr",
          "text": []
        },
        {
          "output_type": "stream",
          "name": "stdout",
          "text": [
            "Epoch [5/10], Loss: 0.1405\n"
          ]
        },
        {
          "output_type": "stream",
          "name": "stderr",
          "text": []
        },
        {
          "output_type": "stream",
          "name": "stdout",
          "text": [
            "Epoch [6/10], Loss: 0.1205\n"
          ]
        },
        {
          "output_type": "stream",
          "name": "stderr",
          "text": []
        },
        {
          "output_type": "stream",
          "name": "stdout",
          "text": [
            "Epoch [7/10], Loss: 0.1029\n"
          ]
        },
        {
          "output_type": "stream",
          "name": "stderr",
          "text": []
        },
        {
          "output_type": "stream",
          "name": "stdout",
          "text": [
            "Epoch [8/10], Loss: 0.0897\n"
          ]
        },
        {
          "output_type": "stream",
          "name": "stderr",
          "text": []
        },
        {
          "output_type": "stream",
          "name": "stdout",
          "text": [
            "Epoch [9/10], Loss: 0.0796\n"
          ]
        },
        {
          "output_type": "stream",
          "name": "stderr",
          "text": []
        },
        {
          "output_type": "stream",
          "name": "stdout",
          "text": [
            "Epoch [10/10], Loss: 0.0700\n"
          ]
        },
        {
          "output_type": "stream",
          "name": "stderr",
          "text": []
        },
        {
          "output_type": "stream",
          "name": "stdout",
          "text": [
            "Epoch [1/10], Loss: 0.3200\n"
          ]
        },
        {
          "output_type": "stream",
          "name": "stderr",
          "text": []
        },
        {
          "output_type": "stream",
          "name": "stdout",
          "text": [
            "Epoch [2/10], Loss: 0.1367\n"
          ]
        },
        {
          "output_type": "stream",
          "name": "stderr",
          "text": []
        },
        {
          "output_type": "stream",
          "name": "stdout",
          "text": [
            "Epoch [3/10], Loss: 0.0967\n"
          ]
        },
        {
          "output_type": "stream",
          "name": "stderr",
          "text": []
        },
        {
          "output_type": "stream",
          "name": "stdout",
          "text": [
            "Epoch [4/10], Loss: 0.0789\n"
          ]
        },
        {
          "output_type": "stream",
          "name": "stderr",
          "text": []
        },
        {
          "output_type": "stream",
          "name": "stdout",
          "text": [
            "Epoch [5/10], Loss: 0.0683\n"
          ]
        },
        {
          "output_type": "stream",
          "name": "stderr",
          "text": []
        },
        {
          "output_type": "stream",
          "name": "stdout",
          "text": [
            "Epoch [6/10], Loss: 0.0564\n"
          ]
        },
        {
          "output_type": "stream",
          "name": "stderr",
          "text": []
        },
        {
          "output_type": "stream",
          "name": "stdout",
          "text": [
            "Epoch [7/10], Loss: 0.0481\n"
          ]
        },
        {
          "output_type": "stream",
          "name": "stderr",
          "text": []
        },
        {
          "output_type": "stream",
          "name": "stdout",
          "text": [
            "Epoch [8/10], Loss: 0.0433\n"
          ]
        },
        {
          "output_type": "stream",
          "name": "stderr",
          "text": []
        },
        {
          "output_type": "stream",
          "name": "stdout",
          "text": [
            "Epoch [9/10], Loss: 0.0384\n"
          ]
        },
        {
          "output_type": "stream",
          "name": "stderr",
          "text": []
        },
        {
          "output_type": "stream",
          "name": "stdout",
          "text": [
            "Epoch [10/10], Loss: 0.0354\n"
          ]
        },
        {
          "output_type": "stream",
          "name": "stderr",
          "text": []
        },
        {
          "output_type": "stream",
          "name": "stdout",
          "text": [
            "Epoch [1/10], Loss: 0.5043\n"
          ]
        },
        {
          "output_type": "stream",
          "name": "stderr",
          "text": []
        },
        {
          "output_type": "stream",
          "name": "stdout",
          "text": [
            "Epoch [2/10], Loss: 0.2566\n"
          ]
        },
        {
          "output_type": "stream",
          "name": "stderr",
          "text": []
        },
        {
          "output_type": "stream",
          "name": "stdout",
          "text": [
            "Epoch [3/10], Loss: 0.2356\n"
          ]
        },
        {
          "output_type": "stream",
          "name": "stderr",
          "text": []
        },
        {
          "output_type": "stream",
          "name": "stdout",
          "text": [
            "Epoch [4/10], Loss: 0.2197\n"
          ]
        },
        {
          "output_type": "stream",
          "name": "stderr",
          "text": []
        },
        {
          "output_type": "stream",
          "name": "stdout",
          "text": [
            "Epoch [5/10], Loss: 0.2114\n"
          ]
        },
        {
          "output_type": "stream",
          "name": "stderr",
          "text": []
        },
        {
          "output_type": "stream",
          "name": "stdout",
          "text": [
            "Epoch [6/10], Loss: 0.2082\n"
          ]
        },
        {
          "output_type": "stream",
          "name": "stderr",
          "text": []
        },
        {
          "output_type": "stream",
          "name": "stdout",
          "text": [
            "Epoch [7/10], Loss: 0.2123\n"
          ]
        },
        {
          "output_type": "stream",
          "name": "stderr",
          "text": []
        },
        {
          "output_type": "stream",
          "name": "stdout",
          "text": [
            "Epoch [8/10], Loss: 0.1955\n"
          ]
        },
        {
          "output_type": "stream",
          "name": "stderr",
          "text": []
        },
        {
          "output_type": "stream",
          "name": "stdout",
          "text": [
            "Epoch [9/10], Loss: 0.1970\n"
          ]
        },
        {
          "output_type": "stream",
          "name": "stderr",
          "text": []
        },
        {
          "output_type": "stream",
          "name": "stdout",
          "text": [
            "Epoch [10/10], Loss: 0.1986\n"
          ]
        },
        {
          "output_type": "stream",
          "name": "stderr",
          "text": []
        },
        {
          "output_type": "stream",
          "name": "stdout",
          "text": [
            "Epoch [1/10], Loss: 31.3644\n"
          ]
        },
        {
          "output_type": "stream",
          "name": "stderr",
          "text": []
        },
        {
          "output_type": "stream",
          "name": "stdout",
          "text": [
            "Epoch [2/10], Loss: 2.3058\n"
          ]
        },
        {
          "output_type": "stream",
          "name": "stderr",
          "text": []
        },
        {
          "output_type": "stream",
          "name": "stdout",
          "text": [
            "Epoch [3/10], Loss: 2.3058\n"
          ]
        },
        {
          "output_type": "stream",
          "name": "stderr",
          "text": []
        },
        {
          "output_type": "stream",
          "name": "stdout",
          "text": [
            "Epoch [4/10], Loss: 2.3072\n"
          ]
        },
        {
          "output_type": "stream",
          "name": "stderr",
          "text": []
        },
        {
          "output_type": "stream",
          "name": "stdout",
          "text": [
            "Epoch [5/10], Loss: 2.3080\n"
          ]
        },
        {
          "output_type": "stream",
          "name": "stderr",
          "text": []
        },
        {
          "output_type": "stream",
          "name": "stdout",
          "text": [
            "Epoch [6/10], Loss: 2.3070\n"
          ]
        },
        {
          "output_type": "stream",
          "name": "stderr",
          "text": []
        },
        {
          "output_type": "stream",
          "name": "stdout",
          "text": [
            "Epoch [7/10], Loss: 2.3077\n"
          ]
        },
        {
          "output_type": "stream",
          "name": "stderr",
          "text": []
        },
        {
          "output_type": "stream",
          "name": "stdout",
          "text": [
            "Epoch [8/10], Loss: 2.3071\n"
          ]
        },
        {
          "output_type": "stream",
          "name": "stderr",
          "text": []
        },
        {
          "output_type": "stream",
          "name": "stdout",
          "text": [
            "Epoch [9/10], Loss: 2.3073\n"
          ]
        },
        {
          "output_type": "stream",
          "name": "stderr",
          "text": []
        },
        {
          "output_type": "stream",
          "name": "stdout",
          "text": [
            "Epoch [10/10], Loss: 2.3074\n"
          ]
        },
        {
          "output_type": "display_data",
          "data": {
            "text/plain": [
              "<Figure size 1000x500 with 1 Axes>"
            ],
            "image/png": "[encoded data removed]"
          },
          "metadata": {}
        },
        {
          "output_type": "display_data",
          "data": {
            "text/plain": [
              "<Figure size 1000x500 with 1 Axes>"
            ],
            "image/png": "[encoded data removed]"
          },
          "metadata": {}
        },
        {
          "output_type": "stream",
          "name": "stdout",
          "text": [
            "\n",
            "Online Learning for Backprop\n"
          ]
        },
        {
          "output_type": "stream",
          "name": "stderr",
          "text": []
        },
        {
          "output_type": "stream",
          "name": "stdout",
          "text": [
            "Epoch [1/10], Loss: 2.3024\n"
          ]
        },
        {
          "output_type": "stream",
          "name": "stderr",
          "text": []
        },
        {
          "output_type": "stream",
          "name": "stdout",
          "text": [
            "Epoch [2/10], Loss: 2.3015\n"
          ]
        },
        {
          "output_type": "stream",
          "name": "stderr",
          "text": []
        },
        {
          "output_type": "stream",
          "name": "stdout",
          "text": [
            "Epoch [3/10], Loss: 2.3015\n"
          ]
        },
        {
          "output_type": "stream",
          "name": "stderr",
          "text": []
        },
        {
          "output_type": "stream",
          "name": "stdout",
          "text": [
            "Epoch [4/10], Loss: 2.3015\n"
          ]
        },
        {
          "output_type": "stream",
          "name": "stderr",
          "text": []
        },
        {
          "output_type": "stream",
          "name": "stdout",
          "text": [
            "Epoch [5/10], Loss: 2.3015\n"
          ]
        },
        {
          "output_type": "stream",
          "name": "stderr",
          "text": []
        },
        {
          "output_type": "stream",
          "name": "stdout",
          "text": [
            "Epoch [6/10], Loss: 2.3015\n"
          ]
        },
        {
          "output_type": "stream",
          "name": "stderr",
          "text": []
        },
        {
          "output_type": "stream",
          "name": "stdout",
          "text": [
            "Epoch [7/10], Loss: 2.3015\n"
          ]
        },
        {
          "output_type": "stream",
          "name": "stderr",
          "text": []
        },
        {
          "output_type": "stream",
          "name": "stdout",
          "text": [
            "Epoch [8/10], Loss: 2.3015\n"
          ]
        },
        {
          "output_type": "stream",
          "name": "stderr",
          "text": []
        },
        {
          "output_type": "stream",
          "name": "stdout",
          "text": [
            "Epoch [9/10], Loss: 2.3015\n"
          ]
        },
        {
          "output_type": "stream",
          "name": "stderr",
          "text": []
        },
        {
          "output_type": "stream",
          "name": "stdout",
          "text": [
            "Epoch [10/10], Loss: 2.3015\n",
            "\n",
            "Non-stationary Learning for Backprop\n"
          ]
        },
        {
          "output_type": "stream",
          "name": "stderr",
          "text": []
        },
        {
          "output_type": "stream",
          "name": "stdout",
          "text": [
            "Epoch [1/10], Loss: 2.3013\n"
          ]
        },
        {
          "output_type": "stream",
          "name": "stderr",
          "text": []
        },
        {
          "output_type": "stream",
          "name": "stdout",
          "text": [
            "Epoch [2/10], Loss: 2.3013\n"
          ]
        },
        {
          "output_type": "stream",
          "name": "stderr",
          "text": []
        },
        {
          "output_type": "stream",
          "name": "stdout",
          "text": [
            "Epoch [3/10], Loss: 2.3013\n"
          ]
        },
        {
          "output_type": "stream",
          "name": "stderr",
          "text": []
        },
        {
          "output_type": "stream",
          "name": "stdout",
          "text": [
            "Epoch [4/10], Loss: 2.3013\n"
          ]
        },
        {
          "output_type": "stream",
          "name": "stderr",
          "text": []
        },
        {
          "output_type": "stream",
          "name": "stdout",
          "text": [
            "Epoch [5/10], Loss: 2.3013\n"
          ]
        },
        {
          "output_type": "stream",
          "name": "stderr",
          "text": []
        },
        {
          "output_type": "stream",
          "name": "stdout",
          "text": [
            "Epoch [6/10], Loss: 2.3013\n"
          ]
        },
        {
          "output_type": "stream",
          "name": "stderr",
          "text": []
        },
        {
          "output_type": "stream",
          "name": "stdout",
          "text": [
            "Epoch [7/10], Loss: 2.3013\n"
          ]
        },
        {
          "output_type": "stream",
          "name": "stderr",
          "text": []
        },
        {
          "output_type": "stream",
          "name": "stdout",
          "text": [
            "Epoch [8/10], Loss: 2.3013\n"
          ]
        },
        {
          "output_type": "stream",
          "name": "stderr",
          "text": []
        },
        {
          "output_type": "stream",
          "name": "stdout",
          "text": [
            "Epoch [9/10], Loss: 2.3012\n"
          ]
        },
        {
          "output_type": "stream",
          "name": "stderr",
          "text": []
        },
        {
          "output_type": "stream",
          "name": "stdout",
          "text": [
            "Epoch [10/10], Loss: 2.3012\n",
            "\n",
            "Testing Weight_perturbation\n"
          ]
        },
        {
          "output_type": "stream",
          "name": "stderr",
          "text": []
        },
        {
          "output_type": "stream",
          "name": "stdout",
          "text": [
            "Epoch [1/1], Loss: 2.3022\n",
            "Epoch [1/10], Accuracy: 0.1045, Gradient Bias: -0.0010, Gradient Variance: 0.0008\n"
          ]
        },
        {
          "output_type": "stream",
          "name": "stderr",
          "text": []
        },
        {
          "output_type": "stream",
          "name": "stdout",
          "text": [
            "Epoch [1/1], Loss: 2.3076\n",
            "Epoch [2/10], Accuracy: 0.1045, Gradient Bias: -0.0030, Gradient Variance: 0.0008\n"
          ]
        },
        {
          "output_type": "stream",
          "name": "stderr",
          "text": []
        },
        {
          "output_type": "stream",
          "name": "stdout",
          "text": [
            "Epoch [1/1], Loss: 2.3076\n",
            "Epoch [3/10], Accuracy: 0.1045, Gradient Bias: -0.0049, Gradient Variance: 0.0008\n"
          ]
        },
        {
          "output_type": "stream",
          "name": "stderr",
          "text": []
        },
        {
          "output_type": "stream",
          "name": "stdout",
          "text": [
            "Epoch [1/1], Loss: 2.3076\n",
            "Epoch [4/10], Accuracy: 0.1045, Gradient Bias: -0.0068, Gradient Variance: 0.0008\n"
          ]
        },
        {
          "output_type": "stream",
          "name": "stderr",
          "text": []
        },
        {
          "output_type": "stream",
          "name": "stdout",
          "text": [
            "Epoch [1/1], Loss: 2.3076\n",
            "Epoch [5/10], Accuracy: 0.1045, Gradient Bias: -0.0088, Gradient Variance: 0.0008\n"
          ]
        },
        {
          "output_type": "stream",
          "name": "stderr",
          "text": []
        },
        {
          "output_type": "stream",
          "name": "stdout",
          "text": [
            "Epoch [1/1], Loss: 2.3076\n",
            "Epoch [6/10], Accuracy: 0.1045, Gradient Bias: -0.0108, Gradient Variance: 0.0008\n"
          ]
        },
        {
          "output_type": "stream",
          "name": "stderr",
          "text": []
        },
        {
          "output_type": "stream",
          "name": "stdout",
          "text": [
            "Epoch [1/1], Loss: 2.3076\n"
          ]
        }
      ]
    },
    {
      "cell_type": "markdown",
      "source": [
        "```markdown\n",
        "## Detailed Explanation of the Experiment on Training Algorithms: Backpropagation, Feedback Alignment, Weight Perturbation, and Hybrid Approach\n",
        "\n",
        "### Introduction\n",
        "This experiment evaluates the effectiveness of various neural network training algorithms on the MNIST dataset. The algorithms compared include:\n",
        "1. **Backpropagation**: The standard method for training neural networks.\n",
        "2. **Feedback Alignment**: An alternative to backpropagation that uses fixed random feedback weights for gradient computation.\n",
        "3. **Weight Perturbation**: A method that perturbs weights randomly and accepts updates only if they result in a lower loss.\n",
        "4. **Hybrid Approach**: Combines feedback alignment and weight perturbation to leverage the strengths of both methods.\n",
        "\n",
        "### Dataset and Transformation\n",
        "The **MNIST dataset** contains 60,000 training images and 10,000 testing images of handwritten digits (0-9). Each image is a 28x28 grayscale image. The images are transformed using:\n",
        "- `transforms.ToTensor()`: Converts the images to PyTorch tensors, scaling pixel values to the range [0, 1].\n",
        "- `transforms.Normalize((0.5,), (0.5,))`: Normalizes the images to have a mean of 0.5 and a standard deviation of 0.5, ensuring the data is centered around zero with unit variance.\n",
        "\n",
        "### Model Architectures\n",
        "1. **SimpleNN**: A fully connected neural network with three layers. The architecture includes:\n",
        "   - **Input Layer**: 784 neurons (28x28 pixels).\n",
        "   - **First Hidden Layer**: 512 neurons with ReLU activation and dropout regularization (20% dropout rate).\n",
        "   - **Second Hidden Layer**: 512 neurons with ReLU activation and dropout regularization.\n",
        "   - **Output Layer**: 10 neurons (one for each digit class) with a linear activation function.\n",
        "\n",
        "2. **SimpleNNFeedbackAlignment**: A variation of `SimpleNN` using feedback alignment for training. This model includes:\n",
        "   - **FeedbackAlignmentLinear Layer**: Custom linear layer with fixed random feedback weights.\n",
        "   - **Architecture**: Same as `SimpleNN` but with `FeedbackAlignmentLinear` layers replacing standard linear layers.\n",
        "\n",
        "### Training Functions\n",
        "1. **train_backprop**: Implements standard backpropagation using the Adam optimizer.\n",
        "   - **Initialization**: Initializes the optimizer and loss function (CrossEntropyLoss).\n",
        "   - **Training Loop**: Iterates over epochs and batches:\n",
        "     - Moves input data and labels to the appropriate device (CPU/GPU).\n",
        "     - Performs forward pass, computes loss, backpropagates gradients, and updates weights.\n",
        "     - Computes and prints the running loss for each epoch.\n",
        "\n",
        "2. **train_weight_perturbation**: Perturbs weights randomly and updates them if the perturbation improves the loss.\n",
        "   - **Initialization**: Initializes the loss function (CrossEntropyLoss).\n",
        "   - **Training Loop**: Iterates over epochs and batches:\n",
        "     - Moves input data and labels to the appropriate device.\n",
        "     - Performs forward pass and computes loss.\n",
        "     - Perturbs each weight by a small random value.\n",
        "     - Computes loss with perturbed weights and updates weights only if loss improves.\n",
        "\n",
        "3. **train_feedback_alignment**: Uses feedback alignment for gradient computation.\n",
        "   - **Initialization**: Initializes the loss function (CrossEntropyLoss).\n",
        "   - **Training Loop**: Iterates over epochs and batches:\n",
        "     - Moves input data and labels to the appropriate device.\n",
        "     - Performs forward pass using `FeedbackAlignmentLinear` layers.\n",
        "     - Computes loss and gradients using fixed random feedback weights.\n",
        "     - Updates weights based on feedback gradients.\n",
        "\n",
        "4. **train_hybrid**: Combines feedback alignment and weight perturbation.\n",
        "   - **Initialization**: Initializes the loss function (CrossEntropyLoss).\n",
        "   - **Training Loop**: Iterates over epochs and batches:\n",
        "     - Moves input data and labels to the appropriate device.\n",
        "     - Performs forward pass and computes loss.\n",
        "     - Uses feedback alignment to compute gradients.\n",
        "     - Perturbs weights and updates them if perturbation improves the loss.\n",
        "\n",
        "### Evaluation Metrics\n",
        "- **Accuracy**: The proportion of correctly classified images out of the total number of images.\n",
        "- **Gradient Bias and Variance**: Measures the stability and robustness of gradients. Bias is the mean of gradients, and variance is the spread of gradients.\n",
        "- **Learning Rate Sensitivity**: Evaluates the impact of different learning rates on model performance.\n",
        "- **Noise Robustness**: Assesses model accuracy under varying levels of input noise, indicating robustness to noisy data.\n",
        "\n",
        "### Experiment Workflow\n",
        "1. **Device Setup**: Checks for GPU availability and sets the device accordingly using `torch.device(\"cuda:0\" if torch.cuda.is_available() else \"cpu\")`.\n",
        "2. **Data Loading**: Creates data loaders for the training and testing datasets with batch size 128.\n",
        "3. **Model Initialization**: Initializes models for each training algorithm and moves them to the appropriate device.\n",
        "4. **Performance Measurement**:\n",
        "   - **Training**: Trains each model using the specified algorithm and evaluates performance after each epoch.\n",
        "   - **Evaluation**: Computes accuracy on the test dataset, gradient bias, and variance.\n",
        "   - **Plotting**: Plots accuracy, gradient bias, and variance over epochs.\n",
        "   - **Learning Rate Sensitivity**: Trains models with different learning rates and plots the resulting accuracies.\n",
        "   - **Noise Robustness**: Adds varying levels of noise to the test dataset and evaluates model accuracy.\n",
        "\n",
        "### Online Learning\n",
        "- **online_learning**: Trains the model with batch size = 1 (online learning).\n",
        "  - **Training Loop**: Iterates over each sample individually:\n",
        "    - Moves input data and labels to the appropriate device.\n",
        "    - Performs forward pass, computes loss, backpropagates gradients, and updates weights.\n",
        "\n",
        "### Non-Stationary Learning\n",
        "- **non_stationary_learning**: Trains the model with non-stationary data to simulate changing environments.\n",
        "  - **Label Permutation**: Randomly permutes labels to create non-stationarity.\n",
        "  - **Training Loop**: Trains the model with permuted labels to test robustness to non-stationary data.\n",
        "\n",
        "### Results and Conclusion\n",
        "The results include accuracy trends, gradient bias and variance over epochs, sensitivity to learning rates, and robustness against input noise. These insights help determine the efficiency and robustness of each training algorithm under different conditions. The hybrid approach, combining feedback alignment and weight perturbation, potentially offers benefits in terms of stability and robustness compared to traditional backpropagation.\n",
        "```"
      ],
      "metadata": {
        "id": "SMRGubGPw_Tn"
      }
    },
    {
      "cell_type": "code",
      "source": [
        "import numpy as np\n",
        "import torch\n",
        "import torch.nn as nn\n",
        "import torch.nn.functional as F\n",
        "import torch.optim as optim\n",
        "import torchvision\n",
        "import torchvision.transforms as transforms\n",
        "import matplotlib.pyplot as plt\n",
        "from tqdm import tqdm\n",
        "from sklearn.metrics import classification_report, confusion_matrix, f1_score\n",
        "from google.colab import drive\n",
        "import os\n",
        "\n",
        "# Define the transformation for the dataset\n",
        "transform = transforms.Compose([\n",
        "    transforms.ToTensor(),\n",
        "    transforms.Normalize((0.5,), (0.5,))\n",
        "])\n",
        "\n",
        "# Load the MNIST dataset\n",
        "trainset = torchvision.datasets.MNIST(root='./data', train=True, download=True, transform=transform)\n",
        "testset = torchvision.datasets.MNIST(root='./data', train=False, download=True, transform=transform)\n",
        "\n",
        "# Define model architectures\n",
        "class SimpleNN(nn.Module):\n",
        "    def __init__(self):\n",
        "        super(SimpleNN, self).__init__()\n",
        "        self.fc1 = nn.Linear(28*28, 512)\n",
        "        self.fc2 = nn.Linear(512, 512)\n",
        "        self.fc3 = nn.Linear(512, 10)\n",
        "        self.dropout = nn.Dropout(0.2)\n",
        "\n",
        "    def forward(self, x):\n",
        "        x = x.view(-1, 28*28)\n",
        "        x = torch.relu(self.fc1(x))\n",
        "        x = self.dropout(x)\n",
        "        x = torch.relu(self.fc2(x))\n",
        "        x = self.dropout(x)\n",
        "        x = self.fc3(x)\n",
        "        return x\n",
        "\n",
        "class FeedbackAlignmentLinear(nn.Linear):\n",
        "    def __init__(self, in_features, out_features):\n",
        "        super().__init__(in_features, out_features)\n",
        "        self.feedback_weights = nn.Parameter(torch.randn(out_features, in_features) * 0.05, requires_grad=False)\n",
        "\n",
        "    def forward(self, input):\n",
        "        return F.linear(input, self.weight, self.bias)\n",
        "\n",
        "    def backward(self, grad_output):\n",
        "        return F.linear(grad_output, self.feedback_weights)\n",
        "\n",
        "class SimpleNNFeedbackAlignment(nn.Module):\n",
        "    def __init__(self):\n",
        "        super().__init__()\n",
        "        self.fc1 = FeedbackAlignmentLinear(28*28, 512)\n",
        "        self.fc2 = FeedbackAlignmentLinear(512, 512)\n",
        "        self.fc3 = FeedbackAlignmentLinear(512, 10)\n",
        "        self.dropout = nn.Dropout(0.2)\n",
        "\n",
        "    def forward(self, x):\n",
        "        x = x.view(-1, 28*28)\n",
        "        x = torch.relu(self.fc1(x))\n",
        "        x = self.dropout(x)\n",
        "        x = torch.relu(self.fc2(x))\n",
        "        x = self.dropout(x)\n",
        "        x = self.fc3(x)\n",
        "        return x\n",
        "\n",
        "# Evaluation function\n",
        "def evaluate(model, dataloader, device):\n",
        "    model.eval()\n",
        "    correct = 0\n",
        "    total = 0\n",
        "    with torch.no_grad():\n",
        "        for data in dataloader:\n",
        "            images, labels = data\n",
        "            images, labels = images.to(device), labels.to(device)\n",
        "            outputs = model(images)\n",
        "            _, predicted = torch.max(outputs.data, 1)\n",
        "            total += labels.size(0)\n",
        "            correct += (predicted == labels).sum().item()\n",
        "    return correct / total\n",
        "\n",
        "# Training functions\n",
        "def train_backprop(model, trainloader, learning_rate, epochs, device):\n",
        "    criterion = nn.CrossEntropyLoss()\n",
        "    optimizer = optim.Adam(model.parameters(), lr=learning_rate)\n",
        "    for epoch in range(epochs):\n",
        "        model.train()\n",
        "        running_loss = 0.0\n",
        "        for data in tqdm(trainloader, desc=f\"Epoch {epoch+1}/{epochs}\", leave=False):\n",
        "            inputs, labels = data\n",
        "            inputs, labels = inputs.to(device), labels.to(device)\n",
        "            optimizer.zero_grad()\n",
        "            outputs = model(inputs)\n",
        "            loss = criterion(outputs, labels)\n",
        "            loss.backward()\n",
        "            optimizer.step()\n",
        "            running_loss += loss.item()\n",
        "        print(f\"Epoch [{epoch + 1}/{epochs}], Loss: {running_loss / len(trainloader):.4f}\")\n",
        "\n",
        "def train_weight_perturbation(model, trainloader, learning_rate, epochs, device):\n",
        "    criterion = nn.CrossEntropyLoss()\n",
        "    for epoch in range(epochs):\n",
        "        model.train()\n",
        "        running_loss = 0.0\n",
        "        for data in tqdm(trainloader, desc=f\"Epoch {epoch+1}/{epochs}\", leave=False):\n",
        "            inputs, labels = data\n",
        "            inputs, labels = inputs.to(device), labels.to(device)\n",
        "            outputs = model(inputs)\n",
        "            loss = criterion(outputs, labels)\n",
        "            with torch.no_grad():\n",
        "                for param in model.parameters():\n",
        "                    perturbation = torch.randn_like(param) * learning_rate * 0.01\n",
        "                    param_try = param + perturbation\n",
        "                    outputs_try = model(inputs)\n",
        "                    loss_try = criterion(outputs_try, labels)\n",
        "                    if loss_try < loss:\n",
        "                        param.data.copy_(param_try)\n",
        "                        loss = loss_try\n",
        "            running_loss += loss.item()\n",
        "        print(f\"Epoch [{epoch + 1}/{epochs}], Loss: {running_loss / len(trainloader):.4f}\")\n",
        "\n",
        "def train_feedback_alignment(model, trainloader, learning_rate, epochs, device):\n",
        "    criterion = nn.CrossEntropyLoss()\n",
        "    for epoch in range(epochs):\n",
        "        model.train()\n",
        "        running_loss = 0.0\n",
        "        for data in tqdm(trainloader, desc=f\"Epoch {epoch+1}/{epochs}\", leave=False):\n",
        "            inputs, labels = data\n",
        "            inputs, labels = inputs.to(device), labels.to(device)\n",
        "            h1 = torch.relu(model.fc1(inputs.view(-1, 28*28)))\n",
        "            h1 = model.dropout(h1)\n",
        "            h2 = torch.relu(model.fc2(h1))\n",
        "            h2 = model.dropout(h2)\n",
        "            outputs = model.fc3(h2)\n",
        "            loss = criterion(outputs, labels)\n",
        "            grad_output = torch.autograd.grad(loss, outputs, retain_graph=True)[0]\n",
        "            grad_h2 = model.fc3.backward(grad_output)\n",
        "            grad_h1 = model.fc2.backward(grad_h2)\n",
        "            grad_input = model.fc1.backward(grad_h1)\n",
        "            with torch.no_grad():\n",
        "                model.fc3.weight -= learning_rate * torch.mm(grad_output.t(), h2)\n",
        "                model.fc2.weight -= learning_rate * torch.mm(grad_h2.t(), h1)\n",
        "                model.fc1.weight -= learning_rate * torch.mm(grad_h1.t(), inputs.view(-1, 28*28))\n",
        "            running_loss += loss.item()\n",
        "        print(f\"Epoch [{epoch + 1}/{epochs}], Loss: {running_loss / len(trainloader):.4f}\")\n",
        "\n",
        "def train_hybrid(model, trainloader, learning_rate, epochs, device):\n",
        "    criterion = nn.CrossEntropyLoss()\n",
        "    for epoch in range(epochs):\n",
        "        model.train()\n",
        "        running_loss = 0.0\n",
        "        for data in tqdm(trainloader, desc=f\"Epoch {epoch+1}/{epochs}\", leave=False):\n",
        "            inputs, labels = data\n",
        "            inputs, labels = inputs.to(device), labels.to(device)\n",
        "            outputs = model(inputs)\n",
        "            loss = criterion(outputs, labels)\n",
        "\n",
        "            # Feedback alignment\n",
        "            grad_output = torch.autograd.grad(loss, outputs, retain_graph=True)[0]\n",
        "            grad_h2 = model.fc3.backward(grad_output)\n",
        "            grad_h1 = model.fc2.backward(grad_h2)\n",
        "            grad_input = model.fc1.backward(grad_h1)\n",
        "\n",
        "            # Weight perturbation\n",
        "            with torch.no_grad():\n",
        "                for param in model.parameters():\n",
        "                    perturbation = torch.randn_like(param) * learning_rate * 0.01\n",
        "                    param_try = param + perturbation\n",
        "                    outputs_try = model(inputs)\n",
        "                    loss_try = criterion(outputs_try, labels)\n",
        "                    if loss_try < loss:\n",
        "                        param.data.copy_(param_try)\n",
        "                        loss = loss_try\n",
        "\n",
        "            running_loss += loss.item()\n",
        "        print(f\"Epoch [{epoch + 1}/{epochs}], Loss: {running_loss / len(trainloader):.4f}\")\n",
        "\n",
        "# Function to measure bias and variance of gradients\n",
        "def measure_gradient_stats(model, dataloader, device):\n",
        "    criterion = nn.CrossEntropyLoss()\n",
        "    gradients = []\n",
        "    for data in dataloader:\n",
        "        inputs, labels = data\n",
        "        inputs, labels = inputs.to(device), labels.to(device)\n",
        "        outputs = model(inputs)\n",
        "        loss = criterion(outputs, labels)\n",
        "        loss.backward()\n",
        "        grad = torch.cat([p.grad.flatten() for p in model.parameters() if p.grad is not None])\n",
        "        gradients.append(grad.detach().cpu().numpy())\n",
        "    gradients = np.array(gradients)\n",
        "    bias = np.mean(gradients, axis=0)\n",
        "    variance = np.var(gradients, axis=0)\n",
        "    return np.mean(bias), np.mean(variance)\n",
        "\n",
        "# Function for online learning (batch size = 1)\n",
        "def online_learning(model, trainset, learning_rate, epochs, device):\n",
        "    criterion = nn.CrossEntropyLoss()\n",
        "    optimizer = optim.SGD(model.parameters(), lr=learning_rate)\n",
        "    for epoch in range(epochs):\n",
        "        model.train()\n",
        "        running_loss = 0.0\n",
        "        for i in tqdm(range(len(trainset)), desc=f\"Epoch {epoch+1}/{epochs}\", leave=False):\n",
        "            inputs, labels = trainset[i]\n",
        "            inputs = inputs.unsqueeze(0).to(device)\n",
        "            labels = torch.tensor([labels]).to(device)\n",
        "            optimizer.zero_grad()\n",
        "            outputs = model(inputs)\n",
        "            loss = criterion(outputs, labels)\n",
        "            loss.backward()\n",
        "            optimizer.step()\n",
        "            running_loss += loss.item()\n",
        "        print(f\"Epoch [{epoch + 1}/{epochs}], Loss: {running_loss / len(trainset):.4f}\")\n",
        "\n",
        "# Function for non-stationary data\n",
        "def non_stationary_learning(model, trainset, learning_rate, epochs, device):\n",
        "    criterion = nn.CrossEntropyLoss()\n",
        "    optimizer = optim.SGD(model.parameters(), lr=learning_rate)\n",
        "    for epoch in range(epochs):\n",
        "        model.train()\n",
        "        running_loss = 0.0\n",
        "        # Simulate non-stationarity by randomly permuting labels\n",
        "        permuted_labels = torch.randperm(len(trainset.targets))\n",
        "        trainset.targets = trainset.targets[permuted_labels]\n",
        "        trainloader = torch.utils.data.DataLoader(trainset, batch_size=128, shuffle=True)\n",
        "        for inputs, labels in tqdm(trainloader, desc=f\"Epoch {epoch+1}/{epochs}\", leave=False):\n",
        "            inputs, labels = inputs.to(device), labels.to(device)\n",
        "            optimizer.zero_grad()\n",
        "            outputs = model(inputs)\n",
        "            loss = criterion(outputs, labels)\n",
        "            loss.backward()\n",
        "            optimizer.step()\n",
        "            running_loss += loss.item()\n",
        "        print(f\"Epoch [{epoch + 1}/{epochs}], Loss: {running_loss / len(trainloader):.4f}\")\n",
        "\n",
        "# Performance measurement function\n",
        "def measure_performance(model, trainloader, testloader, learning_rate, epochs, algo='backprop'):\n",
        "    train_funcs = {\n",
        "        'backprop': train_backprop,\n",
        "        'weight_perturbation': train_weight_perturbation,\n",
        "        'feedback_alignment': train_feedback_alignment,\n",
        "        'hybrid': train_hybrid\n",
        "    }\n",
        "    train_func = train_funcs[algo]\n",
        "\n",
        "    performance_threshold = 0.90\n",
        "    convergence_epoch = None\n",
        "    accuracies = []\n",
        "    grad_biases = []\n",
        "    grad_variances = []\n",
        "\n",
        "    for epoch in range(epochs):\n",
        "        train_func(model, trainloader, learning_rate, 1, device)\n",
        "        accuracy = evaluate(model, testloader, device)\n",
        "        bias, variance = measure_gradient_stats(model, trainloader, device)\n",
        "        accuracies.append(accuracy)\n",
        "        grad_biases.append(bias)\n",
        "        grad_variances.append(variance)\n",
        "        print(f'Epoch [{epoch + 1}/{epochs}], Accuracy: {accuracy:.4f}, Gradient Bias: {bias:.4f}, Gradient Variance: {variance:.4f}')\n",
        "        if accuracy >= performance_threshold and convergence_epoch is None:\n",
        "            convergence_epoch = epoch + 1\n",
        "\n",
        "    final_accuracy = accuracies[-1]\n",
        "    print(f'Final Test Accuracy: {final_accuracy:.4f}')\n",
        "    print(f'Convergence Epoch: {convergence_epoch if convergence_epoch else \"Did not converge\"}')\n",
        "\n",
        "    # Plot accuracy, gradient bias, and gradient variance\n",
        "    fig, (ax1, ax2, ax3) = plt.subplots(1, 3, figsize=(20, 5))\n",
        "    ax1.plot(accuracies)\n",
        "    ax1.set_title(f'Accuracy over Epochs - {algo.capitalize()}')\n",
        "    ax1.set_ylabel('Accuracy')\n",
        "    ax1.set_xlabel('Epoch')\n",
        "    ax2.plot(grad_biases)\n",
        "    ax2.set_title(f'Gradient Bias over Epochs - {algo.capitalize()}')\n",
        "    ax2.set_ylabel('Gradient Bias')\n",
        "    ax2.set_xlabel('Epoch')\n",
        "    ax3.plot(grad_variances)\n",
        "    ax3.set_title(f'Gradient Variance over Epochs - {algo.capitalize()}')\n",
        "    ax3.set_ylabel('Gradient Variance')\n",
        "    ax3.set_xlabel('Epoch')\n",
        "    plt.tight_layout()\n",
        "    plt.show()\n",
        "\n",
        "    # Measure sensitivity to learning rate\n",
        "    learning_rates = [1e-5, 1e-4, 1e-3, 1e-2, 1e-1]\n",
        "    lr_accuracies = []\n",
        "    for lr in learning_rates:\n",
        "        model.apply(lambda m: m.reset_parameters() if hasattr(m, 'reset_parameters') else None)\n",
        "        train_func(model, trainloader, lr, epochs, device)\n",
        "        lr_accuracies.append(evaluate(model, testloader, device))\n",
        "\n",
        "    plt.figure(figsize=(10, 5))\n",
        "    plt.plot(learning_rates, lr_accuracies)\n",
        "    plt.xscale('log')\n",
        "    plt.xlabel('Learning Rate')\n",
        "    plt.ylabel('Accuracy')\n",
        "    plt.title(f'Sensitivity to Learning Rate - {algo.capitalize()}')\n",
        "    plt.show()\n",
        "\n",
        "    # Measure robustness against noise\n",
        "    noise_levels = [0.0, 0.1, 0.2, 0.3, 0.4, 0.5]\n",
        "    noise_accuracies = []\n",
        "    for noise in noise_levels:\n",
        "        noisy_testset = torchvision.datasets.MNIST(root='./data', train=False, download=True, transform=transform)\n",
        "        noisy_testset.data = noisy_testset.data + torch.randn_like(noisy_testset.data.float()) * noise * 255\n",
        "        noisy_testset.data = torch.clamp(noisy_testset.data, 0, 255).byte()\n",
        "        noisy_testloader = torch.utils.data.DataLoader(noisy_testset, batch_size=128, shuffle=False)\n",
        "        noise_accuracies.append(evaluate(model, noisy_testloader, device))\n",
        "\n",
        "    plt.figure(figsize=(10, 5))\n",
        "    plt.plot(noise_levels, noise_accuracies)\n",
        "    plt.xlabel('Noise Level')\n",
        "    plt.ylabel('Accuracy')\n",
        "    plt.title(f'Robustness Against Noise - {algo.capitalize()}')\n",
        "    plt.show()\n",
        "\n",
        "    return final_accuracy, convergence_epoch\n",
        "\n",
        "# Main execution\n",
        "device = torch.device(\"cuda:0\" if torch.cuda.is_available() else \"cpu\")\n",
        "print(f\"Using device: {device}\")\n",
        "print(f\"Device name: {torch.cuda.get_device_name(0) if torch.cuda.is_available() else 'CPU'}\")\n",
        "\n",
        "# Create data loaders\n",
        "trainloader = torch.utils.data.DataLoader(trainset, batch_size=128, shuffle=True)\n",
        "testloader = torch.utils.data.DataLoader(testset, batch_size=128, shuffle=False)\n",
        "\n",
        "# Initialize models\n",
        "model_bp = SimpleNN().to(device)\n",
        "model_fa = SimpleNNFeedbackAlignment().to(device)\n",
        "\n",
        "# Measure performance for each algorithm\n",
        "algorithms = ['backprop', 'weight_perturbation', 'feedback_alignment', 'hybrid']\n",
        "for algo in algorithms:\n",
        "    print(f\"\\nMeasuring performance for {algo}:\")\n",
        "    if algo in ['backprop', 'weight_perturbation']:\n",
        "        model = SimpleNN().to(device)\n",
        "    else:\n",
        "        model = SimpleNNFeedbackAlignment().to(device)\n",
        "    measure_performance(model, trainloader, testloader, learning_rate=0.001, epochs=10, algo=algo)\n",
        "\n",
        "# Online learning\n",
        "print(\"\\nPerforming online learning:\")\n",
        "model_online = SimpleNN().to(device)\n",
        "online_learning(model_online, trainset, learning_rate=0.001, epochs=5, device=device)\n",
        "\n",
        "# Non-stationary learning\n",
        "print(\"\\nPerforming non-stationary learning:\")\n",
        "model_nonstationary = SimpleNN().to(device)\n",
        "non_stationary_learning(model_nonstationary, trainset, learning_rate=0.001, epochs=5, device=device)\n"
      ],
      "metadata": {
        "colab": {
          "base_uri": "https://localhost:8080/",
          "height": 1000
        },
        "id": "hLtwXsv5kQwo",
        "outputId": "abbf60b8-6544-4e01-e65a-a1f2edc1c11a"
      },
      "execution_count": null,
      "outputs": [
        {
          "output_type": "stream",
          "name": "stdout",
          "text": [
            "Downloading http://yann.lecun.com/exdb/mnist/train-images-idx3-ubyte.gz\n",
            "Failed to download (trying next):\n",
            "HTTP Error 403: Forbidden\n",
            "\n",
            "Downloading https://ossci-datasets.s3.amazonaws.com/mnist/train-images-idx3-ubyte.gz\n",
            "Downloading https://ossci-datasets.s3.amazonaws.com/mnist/train-images-idx3-ubyte.gz to ./data/MNIST/raw/train-images-idx3-ubyte.gz\n"
          ]
        },
        {
          "output_type": "stream",
          "name": "stderr",
          "text": [
            "100%|██████████| 9912422/9912422 [00:00<00:00, 43819349.58it/s]\n"
          ]
        },
        {
          "output_type": "stream",
          "name": "stdout",
          "text": [
            "Extracting ./data/MNIST/raw/train-images-idx3-ubyte.gz to ./data/MNIST/raw\n",
            "\n",
            "Downloading http://yann.lecun.com/exdb/mnist/train-labels-idx1-ubyte.gz\n",
            "Failed to download (trying next):\n",
            "HTTP Error 403: Forbidden\n",
            "\n",
            "Downloading https://ossci-datasets.s3.amazonaws.com/mnist/train-labels-idx1-ubyte.gz\n",
            "Downloading https://ossci-datasets.s3.amazonaws.com/mnist/train-labels-idx1-ubyte.gz to ./data/MNIST/raw/train-labels-idx1-ubyte.gz\n"
          ]
        },
        {
          "output_type": "stream",
          "name": "stderr",
          "text": [
            "100%|██████████| 28881/28881 [00:00<00:00, 1999268.75it/s]\n"
          ]
        },
        {
          "output_type": "stream",
          "name": "stdout",
          "text": [
            "Extracting ./data/MNIST/raw/train-labels-idx1-ubyte.gz to ./data/MNIST/raw\n",
            "\n",
            "Downloading http://yann.lecun.com/exdb/mnist/t10k-images-idx3-ubyte.gz\n",
            "Failed to download (trying next):\n",
            "HTTP Error 403: Forbidden\n",
            "\n",
            "Downloading https://ossci-datasets.s3.amazonaws.com/mnist/t10k-images-idx3-ubyte.gz\n",
            "Downloading https://ossci-datasets.s3.amazonaws.com/mnist/t10k-images-idx3-ubyte.gz to ./data/MNIST/raw/t10k-images-idx3-ubyte.gz\n"
          ]
        },
        {
          "output_type": "stream",
          "name": "stderr",
          "text": [
            "100%|██████████| 1648877/1648877 [00:00<00:00, 12789301.27it/s]\n"
          ]
        },
        {
          "output_type": "stream",
          "name": "stdout",
          "text": [
            "Extracting ./data/MNIST/raw/t10k-images-idx3-ubyte.gz to ./data/MNIST/raw\n",
            "\n",
            "Downloading http://yann.lecun.com/exdb/mnist/t10k-labels-idx1-ubyte.gz\n",
            "Failed to download (trying next):\n",
            "HTTP Error 403: Forbidden\n",
            "\n",
            "Downloading https://ossci-datasets.s3.amazonaws.com/mnist/t10k-labels-idx1-ubyte.gz\n",
            "Downloading https://ossci-datasets.s3.amazonaws.com/mnist/t10k-labels-idx1-ubyte.gz to ./data/MNIST/raw/t10k-labels-idx1-ubyte.gz\n"
          ]
        },
        {
          "output_type": "stream",
          "name": "stderr",
          "text": [
            "100%|██████████| 4542/4542 [00:00<00:00, 10805745.19it/s]\n"
          ]
        },
        {
          "output_type": "stream",
          "name": "stdout",
          "text": [
            "Extracting ./data/MNIST/raw/t10k-labels-idx1-ubyte.gz to ./data/MNIST/raw\n",
            "\n",
            "Using device: cuda:0\n",
            "Device name: Tesla T4\n",
            "\n",
            "Measuring performance for backprop:\n"
          ]
        },
        {
          "output_type": "stream",
          "name": "stderr",
          "text": []
        },
        {
          "output_type": "stream",
          "name": "stdout",
          "text": [
            "Epoch [1/1], Loss: 0.3559\n",
            "Epoch [1/10], Accuracy: 0.9499, Gradient Bias: -0.0031, Gradient Variance: 0.0048\n"
          ]
        },
        {
          "output_type": "stream",
          "name": "stderr",
          "text": []
        },
        {
          "output_type": "stream",
          "name": "stdout",
          "text": [
            "Epoch [1/1], Loss: 0.1757\n",
            "Epoch [2/10], Accuracy: 0.9567, Gradient Bias: 0.0011, Gradient Variance: 0.0049\n"
          ]
        },
        {
          "output_type": "stream",
          "name": "stderr",
          "text": []
        },
        {
          "output_type": "stream",
          "name": "stdout",
          "text": [
            "Epoch [1/1], Loss: 0.1393\n",
            "Epoch [3/10], Accuracy: 0.9649, Gradient Bias: 0.0010, Gradient Variance: 0.0029\n"
          ]
        },
        {
          "output_type": "stream",
          "name": "stderr",
          "text": []
        },
        {
          "output_type": "stream",
          "name": "stdout",
          "text": [
            "Epoch [1/1], Loss: 0.1208\n",
            "Epoch [4/10], Accuracy: 0.9713, Gradient Bias: 0.0021, Gradient Variance: 0.0018\n"
          ]
        },
        {
          "output_type": "stream",
          "name": "stderr",
          "text": []
        },
        {
          "output_type": "stream",
          "name": "stdout",
          "text": [
            "Epoch [1/1], Loss: 0.1075\n",
            "Epoch [5/10], Accuracy: 0.9760, Gradient Bias: 0.0003, Gradient Variance: 0.0005\n"
          ]
        },
        {
          "output_type": "stream",
          "name": "stderr",
          "text": []
        },
        {
          "output_type": "stream",
          "name": "stdout",
          "text": [
            "Epoch [1/1], Loss: 0.0976\n",
            "Epoch [6/10], Accuracy: 0.9690, Gradient Bias: -0.0004, Gradient Variance: 0.0020\n"
          ]
        },
        {
          "output_type": "stream",
          "name": "stderr",
          "text": []
        },
        {
          "output_type": "stream",
          "name": "stdout",
          "text": [
            "Epoch [1/1], Loss: 0.0909\n",
            "Epoch [7/10], Accuracy: 0.9784, Gradient Bias: 0.0002, Gradient Variance: 0.0004\n"
          ]
        },
        {
          "output_type": "stream",
          "name": "stderr",
          "text": []
        },
        {
          "output_type": "stream",
          "name": "stdout",
          "text": [
            "Epoch [1/1], Loss: 0.0856\n",
            "Epoch [8/10], Accuracy: 0.9749, Gradient Bias: 0.0001, Gradient Variance: 0.0004\n"
          ]
        },
        {
          "output_type": "stream",
          "name": "stderr",
          "text": []
        },
        {
          "output_type": "stream",
          "name": "stdout",
          "text": [
            "Epoch [1/1], Loss: 0.0808\n",
            "Epoch [9/10], Accuracy: 0.9755, Gradient Bias: 0.0004, Gradient Variance: 0.0006\n"
          ]
        },
        {
          "output_type": "stream",
          "name": "stderr",
          "text": []
        },
        {
          "output_type": "stream",
          "name": "stdout",
          "text": [
            "Epoch [1/1], Loss: 0.0798\n",
            "Epoch [10/10], Accuracy: 0.9788, Gradient Bias: -0.0004, Gradient Variance: 0.0005\n",
            "Final Test Accuracy: 0.9788\n",
            "Convergence Epoch: 1\n"
          ]
        },
        {
          "output_type": "display_data",
          "data": {
            "text/plain": [
              "<Figure size 2000x500 with 3 Axes>"
            ],
            "image/png": "[encoded data removed]"
          },
          "metadata": {}
        },
        {
          "output_type": "stream",
          "name": "stderr",
          "text": []
        },
        {
          "output_type": "stream",
          "name": "stdout",
          "text": [
            "Epoch [1/10], Loss: 1.7785\n"
          ]
        },
        {
          "output_type": "stream",
          "name": "stderr",
          "text": []
        },
        {
          "output_type": "stream",
          "name": "stdout",
          "text": [
            "Epoch [2/10], Loss: 0.8764\n"
          ]
        },
        {
          "output_type": "stream",
          "name": "stderr",
          "text": []
        },
        {
          "output_type": "stream",
          "name": "stdout",
          "text": [
            "Epoch [3/10], Loss: 0.6008\n"
          ]
        },
        {
          "output_type": "stream",
          "name": "stderr",
          "text": []
        },
        {
          "output_type": "stream",
          "name": "stdout",
          "text": [
            "Epoch [4/10], Loss: 0.4956\n"
          ]
        },
        {
          "output_type": "stream",
          "name": "stderr",
          "text": []
        },
        {
          "output_type": "stream",
          "name": "stdout",
          "text": [
            "Epoch [5/10], Loss: 0.4386\n"
          ]
        },
        {
          "output_type": "stream",
          "name": "stderr",
          "text": []
        },
        {
          "output_type": "stream",
          "name": "stdout",
          "text": [
            "Epoch [6/10], Loss: 0.4049\n"
          ]
        },
        {
          "output_type": "stream",
          "name": "stderr",
          "text": []
        },
        {
          "output_type": "stream",
          "name": "stdout",
          "text": [
            "Epoch [7/10], Loss: 0.3779\n"
          ]
        },
        {
          "output_type": "stream",
          "name": "stderr",
          "text": []
        },
        {
          "output_type": "stream",
          "name": "stdout",
          "text": [
            "Epoch [8/10], Loss: 0.3584\n"
          ]
        },
        {
          "output_type": "stream",
          "name": "stderr",
          "text": []
        },
        {
          "output_type": "stream",
          "name": "stdout",
          "text": [
            "Epoch [9/10], Loss: 0.3416\n"
          ]
        },
        {
          "output_type": "stream",
          "name": "stderr",
          "text": []
        },
        {
          "output_type": "stream",
          "name": "stdout",
          "text": [
            "Epoch [10/10], Loss: 0.3279\n"
          ]
        },
        {
          "output_type": "stream",
          "name": "stderr",
          "text": []
        },
        {
          "output_type": "stream",
          "name": "stdout",
          "text": [
            "Epoch [1/10], Loss: 0.6736\n"
          ]
        },
        {
          "output_type": "stream",
          "name": "stderr",
          "text": []
        },
        {
          "output_type": "stream",
          "name": "stdout",
          "text": [
            "Epoch [2/10], Loss: 0.3021\n"
          ]
        },
        {
          "output_type": "stream",
          "name": "stderr",
          "text": []
        },
        {
          "output_type": "stream",
          "name": "stdout",
          "text": [
            "Epoch [3/10], Loss: 0.2320\n"
          ]
        },
        {
          "output_type": "stream",
          "name": "stderr",
          "text": []
        },
        {
          "output_type": "stream",
          "name": "stdout",
          "text": [
            "Epoch [4/10], Loss: 0.1863\n"
          ]
        },
        {
          "output_type": "stream",
          "name": "stderr",
          "text": []
        },
        {
          "output_type": "stream",
          "name": "stdout",
          "text": [
            "Epoch [5/10], Loss: 0.1567\n"
          ]
        },
        {
          "output_type": "stream",
          "name": "stderr",
          "text": []
        },
        {
          "output_type": "stream",
          "name": "stdout",
          "text": [
            "Epoch [6/10], Loss: 0.1351\n"
          ]
        },
        {
          "output_type": "stream",
          "name": "stderr",
          "text": []
        },
        {
          "output_type": "stream",
          "name": "stdout",
          "text": [
            "Epoch [7/10], Loss: 0.1180\n"
          ]
        },
        {
          "output_type": "stream",
          "name": "stderr",
          "text": []
        },
        {
          "output_type": "stream",
          "name": "stdout",
          "text": [
            "Epoch [8/10], Loss: 0.1065\n"
          ]
        },
        {
          "output_type": "stream",
          "name": "stderr",
          "text": []
        },
        {
          "output_type": "stream",
          "name": "stdout",
          "text": [
            "Epoch [9/10], Loss: 0.0939\n"
          ]
        },
        {
          "output_type": "stream",
          "name": "stderr",
          "text": []
        },
        {
          "output_type": "stream",
          "name": "stdout",
          "text": [
            "Epoch [10/10], Loss: 0.0855\n"
          ]
        },
        {
          "output_type": "stream",
          "name": "stderr",
          "text": []
        },
        {
          "output_type": "stream",
          "name": "stdout",
          "text": [
            "Epoch [1/10], Loss: 0.3541\n"
          ]
        },
        {
          "output_type": "stream",
          "name": "stderr",
          "text": []
        },
        {
          "output_type": "stream",
          "name": "stdout",
          "text": [
            "Epoch [2/10], Loss: 0.1702\n"
          ]
        },
        {
          "output_type": "stream",
          "name": "stderr",
          "text": []
        },
        {
          "output_type": "stream",
          "name": "stdout",
          "text": [
            "Epoch [3/10], Loss: 0.1339\n"
          ]
        },
        {
          "output_type": "stream",
          "name": "stderr",
          "text": []
        },
        {
          "output_type": "stream",
          "name": "stdout",
          "text": [
            "Epoch [4/10], Loss: 0.1141\n"
          ]
        },
        {
          "output_type": "stream",
          "name": "stderr",
          "text": []
        },
        {
          "output_type": "stream",
          "name": "stdout",
          "text": [
            "Epoch [5/10], Loss: 0.0997\n"
          ]
        },
        {
          "output_type": "stream",
          "name": "stderr",
          "text": []
        },
        {
          "output_type": "stream",
          "name": "stdout",
          "text": [
            "Epoch [6/10], Loss: 0.0923\n"
          ]
        },
        {
          "output_type": "stream",
          "name": "stderr",
          "text": []
        },
        {
          "output_type": "stream",
          "name": "stdout",
          "text": [
            "Epoch [7/10], Loss: 0.0822\n"
          ]
        },
        {
          "output_type": "stream",
          "name": "stderr",
          "text": []
        },
        {
          "output_type": "stream",
          "name": "stdout",
          "text": [
            "Epoch [8/10], Loss: 0.0773\n"
          ]
        },
        {
          "output_type": "stream",
          "name": "stderr",
          "text": []
        },
        {
          "output_type": "stream",
          "name": "stdout",
          "text": [
            "Epoch [9/10], Loss: 0.0728\n"
          ]
        },
        {
          "output_type": "stream",
          "name": "stderr",
          "text": []
        },
        {
          "output_type": "stream",
          "name": "stdout",
          "text": [
            "Epoch [10/10], Loss: 0.0667\n"
          ]
        },
        {
          "output_type": "stream",
          "name": "stderr",
          "text": []
        },
        {
          "output_type": "stream",
          "name": "stdout",
          "text": [
            "Epoch [1/10], Loss: 1.0726\n"
          ]
        },
        {
          "output_type": "stream",
          "name": "stderr",
          "text": []
        },
        {
          "output_type": "stream",
          "name": "stdout",
          "text": [
            "Epoch [2/10], Loss: 0.7363\n"
          ]
        },
        {
          "output_type": "stream",
          "name": "stderr",
          "text": []
        },
        {
          "output_type": "stream",
          "name": "stdout",
          "text": [
            "Epoch [3/10], Loss: 0.6707\n"
          ]
        },
        {
          "output_type": "stream",
          "name": "stderr",
          "text": []
        },
        {
          "output_type": "stream",
          "name": "stdout",
          "text": [
            "Epoch [4/10], Loss: 0.6585\n"
          ]
        },
        {
          "output_type": "stream",
          "name": "stderr",
          "text": []
        },
        {
          "output_type": "stream",
          "name": "stdout",
          "text": [
            "Epoch [5/10], Loss: 0.6485\n"
          ]
        },
        {
          "output_type": "stream",
          "name": "stderr",
          "text": []
        },
        {
          "output_type": "stream",
          "name": "stdout",
          "text": [
            "Epoch [6/10], Loss: 0.6483\n"
          ]
        },
        {
          "output_type": "stream",
          "name": "stderr",
          "text": []
        },
        {
          "output_type": "stream",
          "name": "stdout",
          "text": [
            "Epoch [7/10], Loss: 0.6528\n"
          ]
        },
        {
          "output_type": "stream",
          "name": "stderr",
          "text": []
        },
        {
          "output_type": "stream",
          "name": "stdout",
          "text": [
            "Epoch [8/10], Loss: 0.6556\n"
          ]
        },
        {
          "output_type": "stream",
          "name": "stderr",
          "text": []
        },
        {
          "output_type": "stream",
          "name": "stdout",
          "text": [
            "Epoch [9/10], Loss: 0.6471\n"
          ]
        },
        {
          "output_type": "stream",
          "name": "stderr",
          "text": []
        },
        {
          "output_type": "stream",
          "name": "stdout",
          "text": [
            "Epoch [10/10], Loss: 0.6459\n"
          ]
        },
        {
          "output_type": "stream",
          "name": "stderr",
          "text": []
        },
        {
          "output_type": "stream",
          "name": "stdout",
          "text": [
            "Epoch [1/10], Loss: 24.0422\n"
          ]
        },
        {
          "output_type": "stream",
          "name": "stderr",
          "text": []
        },
        {
          "output_type": "stream",
          "name": "stdout",
          "text": [
            "Epoch [2/10], Loss: 2.3057\n"
          ]
        },
        {
          "output_type": "stream",
          "name": "stderr",
          "text": []
        },
        {
          "output_type": "stream",
          "name": "stdout",
          "text": [
            "Epoch [3/10], Loss: 2.3068\n"
          ]
        },
        {
          "output_type": "stream",
          "name": "stderr",
          "text": []
        },
        {
          "output_type": "stream",
          "name": "stdout",
          "text": [
            "Epoch [4/10], Loss: 2.3068\n"
          ]
        },
        {
          "output_type": "stream",
          "name": "stderr",
          "text": []
        },
        {
          "output_type": "stream",
          "name": "stdout",
          "text": [
            "Epoch [5/10], Loss: 2.3074\n"
          ]
        },
        {
          "output_type": "stream",
          "name": "stderr",
          "text": []
        },
        {
          "output_type": "stream",
          "name": "stdout",
          "text": [
            "Epoch [6/10], Loss: 2.3070\n"
          ]
        },
        {
          "output_type": "stream",
          "name": "stderr",
          "text": []
        },
        {
          "output_type": "stream",
          "name": "stdout",
          "text": [
            "Epoch [7/10], Loss: 2.3077\n"
          ]
        },
        {
          "output_type": "stream",
          "name": "stderr",
          "text": []
        },
        {
          "output_type": "stream",
          "name": "stdout",
          "text": [
            "Epoch [8/10], Loss: 2.3078\n"
          ]
        },
        {
          "output_type": "stream",
          "name": "stderr",
          "text": []
        },
        {
          "output_type": "stream",
          "name": "stdout",
          "text": [
            "Epoch [9/10], Loss: 2.3070\n"
          ]
        },
        {
          "output_type": "stream",
          "name": "stderr",
          "text": []
        },
        {
          "output_type": "stream",
          "name": "stdout",
          "text": [
            "Epoch [10/10], Loss: 2.3074\n"
          ]
        },
        {
          "output_type": "display_data",
          "data": {
            "text/plain": [
              "<Figure size 1000x500 with 1 Axes>"
            ],
            "image/png": "[encoded data removed]"
          },
          "metadata": {}
        },
        {
          "output_type": "display_data",
          "data": {
            "text/plain": [
              "<Figure size 1000x500 with 1 Axes>"
            ],
            "image/png": "[encoded data removed]"
          },
          "metadata": {}
        },
        {
          "output_type": "stream",
          "name": "stdout",
          "text": [
            "\n",
            "Measuring performance for weight_perturbation:\n"
          ]
        },
        {
          "output_type": "stream",
          "name": "stderr",
          "text": []
        },
        {
          "output_type": "stream",
          "name": "stdout",
          "text": [
            "Epoch [1/1], Loss: 2.3062\n",
            "Epoch [1/10], Accuracy: 0.0864, Gradient Bias: -0.0016, Gradient Variance: 0.0082\n"
          ]
        },
        {
          "output_type": "stream",
          "name": "stderr",
          "text": []
        },
        {
          "output_type": "stream",
          "name": "stdout",
          "text": [
            "Epoch [1/1], Loss: 2.3061\n",
            "Epoch [2/10], Accuracy: 0.0861, Gradient Bias: -0.0044, Gradient Variance: 0.0082\n"
          ]
        },
        {
          "output_type": "stream",
          "name": "stderr",
          "text": []
        },
        {
          "output_type": "stream",
          "name": "stdout",
          "text": [
            "Epoch [1/1], Loss: 2.3059\n",
            "Epoch [3/10], Accuracy: 0.0856, Gradient Bias: -0.0072, Gradient Variance: 0.0081\n"
          ]
        },
        {
          "output_type": "stream",
          "name": "stderr",
          "text": []
        },
        {
          "output_type": "stream",
          "name": "stdout",
          "text": [
            "Epoch [1/1], Loss: 2.3061\n",
            "Epoch [4/10], Accuracy: 0.0855, Gradient Bias: -0.0100, Gradient Variance: 0.0082\n"
          ]
        },
        {
          "output_type": "stream",
          "name": "stderr",
          "text": []
        },
        {
          "output_type": "stream",
          "name": "stdout",
          "text": [
            "Epoch [1/1], Loss: 2.3064\n",
            "Epoch [5/10], Accuracy: 0.0850, Gradient Bias: -0.0131, Gradient Variance: 0.0081\n"
          ]
        },
        {
          "output_type": "stream",
          "name": "stderr",
          "text": []
        },
        {
          "output_type": "stream",
          "name": "stdout",
          "text": [
            "Epoch [1/1], Loss: 2.3060\n",
            "Epoch [6/10], Accuracy: 0.0856, Gradient Bias: -0.0159, Gradient Variance: 0.0082\n"
          ]
        },
        {
          "output_type": "stream",
          "name": "stderr",
          "text": []
        },
        {
          "output_type": "stream",
          "name": "stdout",
          "text": [
            "Epoch [1/1], Loss: 2.3060\n",
            "Epoch [7/10], Accuracy: 0.0857, Gradient Bias: -0.0191, Gradient Variance: 0.0082\n"
          ]
        },
        {
          "output_type": "stream",
          "name": "stderr",
          "text": []
        },
        {
          "output_type": "stream",
          "name": "stdout",
          "text": [
            "Epoch [1/1], Loss: 2.3063\n",
            "Epoch [8/10], Accuracy: 0.0849, Gradient Bias: -0.0221, Gradient Variance: 0.0083\n"
          ]
        },
        {
          "output_type": "stream",
          "name": "stderr",
          "text": []
        },
        {
          "output_type": "stream",
          "name": "stdout",
          "text": [
            "Epoch [1/1], Loss: 2.3065\n",
            "Epoch [9/10], Accuracy: 0.0849, Gradient Bias: -0.0252, Gradient Variance: 0.0082\n"
          ]
        },
        {
          "output_type": "stream",
          "name": "stderr",
          "text": []
        },
        {
          "output_type": "stream",
          "name": "stdout",
          "text": [
            "Epoch [1/1], Loss: 2.3063\n",
            "Epoch [10/10], Accuracy: 0.0847, Gradient Bias: -0.0285, Gradient Variance: 0.0082\n",
            "Final Test Accuracy: 0.0847\n",
            "Convergence Epoch: Did not converge\n"
          ]
        },
        {
          "output_type": "display_data",
          "data": {
            "text/plain": [
              "<Figure size 2000x500 with 3 Axes>"
            ],
            "image/png": "[encoded data removed]"
          },
          "metadata": {}
        },
        {
          "output_type": "stream",
          "name": "stderr",
          "text": []
        },
        {
          "output_type": "stream",
          "name": "stdout",
          "text": [
            "Epoch [1/10], Loss: 2.2913\n"
          ]
        },
        {
          "output_type": "stream",
          "name": "stderr",
          "text": []
        },
        {
          "output_type": "stream",
          "name": "stdout",
          "text": [
            "Epoch [2/10], Loss: 2.2916\n"
          ]
        },
        {
          "output_type": "stream",
          "name": "stderr",
          "text": []
        },
        {
          "output_type": "stream",
          "name": "stdout",
          "text": [
            "Epoch [3/10], Loss: 2.2916\n"
          ]
        },
        {
          "output_type": "stream",
          "name": "stderr",
          "text": []
        },
        {
          "output_type": "stream",
          "name": "stdout",
          "text": [
            "Epoch [4/10], Loss: 2.2917\n"
          ]
        },
        {
          "output_type": "stream",
          "name": "stderr",
          "text": []
        },
        {
          "output_type": "stream",
          "name": "stdout",
          "text": [
            "Epoch [5/10], Loss: 2.2915\n"
          ]
        },
        {
          "output_type": "stream",
          "name": "stderr",
          "text": []
        },
        {
          "output_type": "stream",
          "name": "stdout",
          "text": [
            "Epoch [6/10], Loss: 2.2914\n"
          ]
        },
        {
          "output_type": "stream",
          "name": "stderr",
          "text": []
        },
        {
          "output_type": "stream",
          "name": "stdout",
          "text": [
            "Epoch [7/10], Loss: 2.2914\n"
          ]
        },
        {
          "output_type": "stream",
          "name": "stderr",
          "text": []
        },
        {
          "output_type": "stream",
          "name": "stdout",
          "text": [
            "Epoch [8/10], Loss: 2.2913\n"
          ]
        },
        {
          "output_type": "stream",
          "name": "stderr",
          "text": []
        },
        {
          "output_type": "stream",
          "name": "stdout",
          "text": [
            "Epoch [9/10], Loss: 2.2915\n"
          ]
        },
        {
          "output_type": "stream",
          "name": "stderr",
          "text": []
        },
        {
          "output_type": "stream",
          "name": "stdout",
          "text": [
            "Epoch [10/10], Loss: 2.2914\n"
          ]
        },
        {
          "output_type": "stream",
          "name": "stderr",
          "text": []
        },
        {
          "output_type": "stream",
          "name": "stdout",
          "text": [
            "Epoch [1/10], Loss: 2.2932\n"
          ]
        },
        {
          "output_type": "stream",
          "name": "stderr",
          "text": []
        },
        {
          "output_type": "stream",
          "name": "stdout",
          "text": [
            "Epoch [2/10], Loss: 2.2931\n"
          ]
        },
        {
          "output_type": "stream",
          "name": "stderr",
          "text": []
        },
        {
          "output_type": "stream",
          "name": "stdout",
          "text": [
            "Epoch [3/10], Loss: 2.2935\n"
          ]
        },
        {
          "output_type": "stream",
          "name": "stderr",
          "text": []
        },
        {
          "output_type": "stream",
          "name": "stdout",
          "text": [
            "Epoch [4/10], Loss: 2.2935\n"
          ]
        },
        {
          "output_type": "stream",
          "name": "stderr",
          "text": []
        },
        {
          "output_type": "stream",
          "name": "stdout",
          "text": [
            "Epoch [5/10], Loss: 2.2932\n"
          ]
        },
        {
          "output_type": "stream",
          "name": "stderr",
          "text": []
        },
        {
          "output_type": "stream",
          "name": "stdout",
          "text": [
            "Epoch [6/10], Loss: 2.2934\n"
          ]
        },
        {
          "output_type": "stream",
          "name": "stderr",
          "text": []
        },
        {
          "output_type": "stream",
          "name": "stdout",
          "text": [
            "Epoch [7/10], Loss: 2.2933\n"
          ]
        },
        {
          "output_type": "stream",
          "name": "stderr",
          "text": []
        },
        {
          "output_type": "stream",
          "name": "stdout",
          "text": [
            "Epoch [8/10], Loss: 2.2935\n"
          ]
        },
        {
          "output_type": "stream",
          "name": "stderr",
          "text": []
        },
        {
          "output_type": "stream",
          "name": "stdout",
          "text": [
            "Epoch [9/10], Loss: 2.2935\n"
          ]
        },
        {
          "output_type": "stream",
          "name": "stderr",
          "text": []
        },
        {
          "output_type": "stream",
          "name": "stdout",
          "text": [
            "Epoch [10/10], Loss: 2.2932\n"
          ]
        },
        {
          "output_type": "stream",
          "name": "stderr",
          "text": []
        },
        {
          "output_type": "stream",
          "name": "stdout",
          "text": [
            "Epoch [1/10], Loss: 2.3043\n"
          ]
        },
        {
          "output_type": "stream",
          "name": "stderr",
          "text": []
        },
        {
          "output_type": "stream",
          "name": "stdout",
          "text": [
            "Epoch [2/10], Loss: 2.3042\n"
          ]
        },
        {
          "output_type": "stream",
          "name": "stderr",
          "text": []
        },
        {
          "output_type": "stream",
          "name": "stdout",
          "text": [
            "Epoch [3/10], Loss: 2.3039\n"
          ]
        },
        {
          "output_type": "stream",
          "name": "stderr",
          "text": []
        },
        {
          "output_type": "stream",
          "name": "stdout",
          "text": [
            "Epoch [4/10], Loss: 2.3041\n"
          ]
        },
        {
          "output_type": "stream",
          "name": "stderr",
          "text": []
        },
        {
          "output_type": "stream",
          "name": "stdout",
          "text": [
            "Epoch [5/10], Loss: 2.3040\n"
          ]
        },
        {
          "output_type": "stream",
          "name": "stderr",
          "text": []
        },
        {
          "output_type": "stream",
          "name": "stdout",
          "text": [
            "Epoch [6/10], Loss: 2.3043\n"
          ]
        },
        {
          "output_type": "stream",
          "name": "stderr",
          "text": []
        },
        {
          "output_type": "stream",
          "name": "stdout",
          "text": [
            "Epoch [7/10], Loss: 2.3036\n"
          ]
        },
        {
          "output_type": "stream",
          "name": "stderr",
          "text": []
        },
        {
          "output_type": "stream",
          "name": "stdout",
          "text": [
            "Epoch [8/10], Loss: 2.3041\n"
          ]
        },
        {
          "output_type": "stream",
          "name": "stderr",
          "text": []
        },
        {
          "output_type": "stream",
          "name": "stdout",
          "text": [
            "Epoch [9/10], Loss: 2.3038\n"
          ]
        },
        {
          "output_type": "stream",
          "name": "stderr",
          "text": []
        },
        {
          "output_type": "stream",
          "name": "stdout",
          "text": [
            "Epoch [10/10], Loss: 2.3042\n"
          ]
        },
        {
          "output_type": "stream",
          "name": "stderr",
          "text": []
        },
        {
          "output_type": "stream",
          "name": "stdout",
          "text": [
            "Epoch [1/10], Loss: 2.2982\n"
          ]
        },
        {
          "output_type": "stream",
          "name": "stderr",
          "text": []
        },
        {
          "output_type": "stream",
          "name": "stdout",
          "text": [
            "Epoch [2/10], Loss: 2.2985\n"
          ]
        },
        {
          "output_type": "stream",
          "name": "stderr",
          "text": []
        },
        {
          "output_type": "stream",
          "name": "stdout",
          "text": [
            "Epoch [3/10], Loss: 2.2986\n"
          ]
        },
        {
          "output_type": "stream",
          "name": "stderr",
          "text": []
        },
        {
          "output_type": "stream",
          "name": "stdout",
          "text": [
            "Epoch [4/10], Loss: 2.2977\n"
          ]
        },
        {
          "output_type": "stream",
          "name": "stderr",
          "text": []
        },
        {
          "output_type": "stream",
          "name": "stdout",
          "text": [
            "Epoch [5/10], Loss: 2.2992\n"
          ]
        },
        {
          "output_type": "stream",
          "name": "stderr",
          "text": []
        },
        {
          "output_type": "stream",
          "name": "stdout",
          "text": [
            "Epoch [6/10], Loss: 2.2992\n"
          ]
        },
        {
          "output_type": "stream",
          "name": "stderr",
          "text": []
        },
        {
          "output_type": "stream",
          "name": "stdout",
          "text": [
            "Epoch [7/10], Loss: 2.3001\n"
          ]
        },
        {
          "output_type": "stream",
          "name": "stderr",
          "text": []
        },
        {
          "output_type": "stream",
          "name": "stdout",
          "text": [
            "Epoch [8/10], Loss: 2.3011\n"
          ]
        },
        {
          "output_type": "stream",
          "name": "stderr",
          "text": []
        },
        {
          "output_type": "stream",
          "name": "stdout",
          "text": [
            "Epoch [9/10], Loss: 2.3003\n"
          ]
        },
        {
          "output_type": "stream",
          "name": "stderr",
          "text": []
        },
        {
          "output_type": "stream",
          "name": "stdout",
          "text": [
            "Epoch [10/10], Loss: 2.3001\n"
          ]
        },
        {
          "output_type": "stream",
          "name": "stderr",
          "text": []
        },
        {
          "output_type": "stream",
          "name": "stdout",
          "text": [
            "Epoch [1/10], Loss: 2.2943\n"
          ]
        },
        {
          "output_type": "stream",
          "name": "stderr",
          "text": []
        },
        {
          "output_type": "stream",
          "name": "stdout",
          "text": [
            "Epoch [2/10], Loss: 2.2931\n"
          ]
        },
        {
          "output_type": "stream",
          "name": "stderr",
          "text": []
        },
        {
          "output_type": "stream",
          "name": "stdout",
          "text": [
            "Epoch [3/10], Loss: 2.3090\n"
          ]
        },
        {
          "output_type": "stream",
          "name": "stderr",
          "text": []
        },
        {
          "output_type": "stream",
          "name": "stdout",
          "text": [
            "Epoch [4/10], Loss: 2.3228\n"
          ]
        },
        {
          "output_type": "stream",
          "name": "stderr",
          "text": []
        },
        {
          "output_type": "stream",
          "name": "stdout",
          "text": [
            "Epoch [5/10], Loss: 2.3525\n"
          ]
        },
        {
          "output_type": "stream",
          "name": "stderr",
          "text": []
        },
        {
          "output_type": "stream",
          "name": "stdout",
          "text": [
            "Epoch [6/10], Loss: 2.3794\n"
          ]
        },
        {
          "output_type": "stream",
          "name": "stderr",
          "text": []
        },
        {
          "output_type": "stream",
          "name": "stdout",
          "text": [
            "Epoch [7/10], Loss: 2.4158\n"
          ]
        },
        {
          "output_type": "stream",
          "name": "stderr",
          "text": []
        },
        {
          "output_type": "stream",
          "name": "stdout",
          "text": [
            "Epoch [8/10], Loss: 2.4535\n"
          ]
        },
        {
          "output_type": "stream",
          "name": "stderr",
          "text": []
        },
        {
          "output_type": "stream",
          "name": "stdout",
          "text": [
            "Epoch [9/10], Loss: 2.4336\n"
          ]
        },
        {
          "output_type": "stream",
          "name": "stderr",
          "text": []
        },
        {
          "output_type": "stream",
          "name": "stdout",
          "text": [
            "Epoch [10/10], Loss: 2.4092\n"
          ]
        },
        {
          "output_type": "display_data",
          "data": {
            "text/plain": [
              "<Figure size 1000x500 with 1 Axes>"
            ],
            "image/png": "[encoded data removed]"
          },
          "metadata": {}
        },
        {
          "output_type": "display_data",
          "data": {
            "text/plain": [
              "<Figure size 1000x500 with 1 Axes>"
            ],
            "image/png": "[encoded data removed]"
          },
          "metadata": {}
        },
        {
          "output_type": "stream",
          "name": "stdout",
          "text": [
            "\n",
            "Measuring performance for feedback_alignment:\n"
          ]
        },
        {
          "output_type": "stream",
          "name": "stderr",
          "text": []
        },
        {
          "output_type": "error",
          "ename": "RuntimeError",
          "evalue": "mat1 and mat2 shapes cannot be multiplied (128x10 and 512x10)",
          "traceback": [
            "\u001b[0;31m---------------------------------------------------------------------------\u001b[0m",
            "\u001b[0;31mRuntimeError\u001b[0m                              Traceback (most recent call last)",
            "\u001b[0;32m<ipython-input-1-00a3c1b09cfe>\u001b[0m in \u001b[0;36m<cell line: 336>\u001b[0;34m()\u001b[0m\n\u001b[1;32m    340\u001b[0m     \u001b[0;32melse\u001b[0m\u001b[0;34m:\u001b[0m\u001b[0;34m\u001b[0m\u001b[0;34m\u001b[0m\u001b[0m\n\u001b[1;32m    341\u001b[0m         \u001b[0mmodel\u001b[0m \u001b[0;34m=\u001b[0m \u001b[0mSimpleNNFeedbackAlignment\u001b[0m\u001b[0;34m(\u001b[0m\u001b[0;34m)\u001b[0m\u001b[0;34m.\u001b[0m\u001b[0mto\u001b[0m\u001b[0;34m(\u001b[0m\u001b[0mdevice\u001b[0m\u001b[0;34m)\u001b[0m\u001b[0;34m\u001b[0m\u001b[0;34m\u001b[0m\u001b[0m\n\u001b[0;32m--> 342\u001b[0;31m     \u001b[0mmeasure_performance\u001b[0m\u001b[0;34m(\u001b[0m\u001b[0mmodel\u001b[0m\u001b[0;34m,\u001b[0m \u001b[0mtrainloader\u001b[0m\u001b[0;34m,\u001b[0m \u001b[0mtestloader\u001b[0m\u001b[0;34m,\u001b[0m \u001b[0mlearning_rate\u001b[0m\u001b[0;34m=\u001b[0m\u001b[0;36m0.001\u001b[0m\u001b[0;34m,\u001b[0m \u001b[0mepochs\u001b[0m\u001b[0;34m=\u001b[0m\u001b[0;36m10\u001b[0m\u001b[0;34m,\u001b[0m \u001b[0malgo\u001b[0m\u001b[0;34m=\u001b[0m\u001b[0malgo\u001b[0m\u001b[0;34m)\u001b[0m\u001b[0;34m\u001b[0m\u001b[0;34m\u001b[0m\u001b[0m\n\u001b[0m\u001b[1;32m    343\u001b[0m \u001b[0;34m\u001b[0m\u001b[0m\n\u001b[1;32m    344\u001b[0m \u001b[0;31m# Online learning\u001b[0m\u001b[0;34m\u001b[0m\u001b[0;34m\u001b[0m\u001b[0m\n",
            "\u001b[0;32m<ipython-input-1-00a3c1b09cfe>\u001b[0m in \u001b[0;36mmeasure_performance\u001b[0;34m(model, trainloader, testloader, learning_rate, epochs, algo)\u001b[0m\n\u001b[1;32m    253\u001b[0m \u001b[0;34m\u001b[0m\u001b[0m\n\u001b[1;32m    254\u001b[0m     \u001b[0;32mfor\u001b[0m \u001b[0mepoch\u001b[0m \u001b[0;32min\u001b[0m \u001b[0mrange\u001b[0m\u001b[0;34m(\u001b[0m\u001b[0mepochs\u001b[0m\u001b[0;34m)\u001b[0m\u001b[0;34m:\u001b[0m\u001b[0;34m\u001b[0m\u001b[0;34m\u001b[0m\u001b[0m\n\u001b[0;32m--> 255\u001b[0;31m         \u001b[0mtrain_func\u001b[0m\u001b[0;34m(\u001b[0m\u001b[0mmodel\u001b[0m\u001b[0;34m,\u001b[0m \u001b[0mtrainloader\u001b[0m\u001b[0;34m,\u001b[0m \u001b[0mlearning_rate\u001b[0m\u001b[0;34m,\u001b[0m \u001b[0;36m1\u001b[0m\u001b[0;34m,\u001b[0m \u001b[0mdevice\u001b[0m\u001b[0;34m)\u001b[0m\u001b[0;34m\u001b[0m\u001b[0;34m\u001b[0m\u001b[0m\n\u001b[0m\u001b[1;32m    256\u001b[0m         \u001b[0maccuracy\u001b[0m \u001b[0;34m=\u001b[0m \u001b[0mevaluate\u001b[0m\u001b[0;34m(\u001b[0m\u001b[0mmodel\u001b[0m\u001b[0;34m,\u001b[0m \u001b[0mtestloader\u001b[0m\u001b[0;34m,\u001b[0m \u001b[0mdevice\u001b[0m\u001b[0;34m)\u001b[0m\u001b[0;34m\u001b[0m\u001b[0;34m\u001b[0m\u001b[0m\n\u001b[1;32m    257\u001b[0m         \u001b[0mbias\u001b[0m\u001b[0;34m,\u001b[0m \u001b[0mvariance\u001b[0m \u001b[0;34m=\u001b[0m \u001b[0mmeasure_gradient_stats\u001b[0m\u001b[0;34m(\u001b[0m\u001b[0mmodel\u001b[0m\u001b[0;34m,\u001b[0m \u001b[0mtrainloader\u001b[0m\u001b[0;34m,\u001b[0m \u001b[0mdevice\u001b[0m\u001b[0;34m)\u001b[0m\u001b[0;34m\u001b[0m\u001b[0;34m\u001b[0m\u001b[0m\n",
            "\u001b[0;32m<ipython-input-1-00a3c1b09cfe>\u001b[0m in \u001b[0;36mtrain_feedback_alignment\u001b[0;34m(model, trainloader, learning_rate, epochs, device)\u001b[0m\n\u001b[1;32m    138\u001b[0m             \u001b[0mloss\u001b[0m \u001b[0;34m=\u001b[0m \u001b[0mcriterion\u001b[0m\u001b[0;34m(\u001b[0m\u001b[0moutputs\u001b[0m\u001b[0;34m,\u001b[0m \u001b[0mlabels\u001b[0m\u001b[0;34m)\u001b[0m\u001b[0;34m\u001b[0m\u001b[0;34m\u001b[0m\u001b[0m\n\u001b[1;32m    139\u001b[0m             \u001b[0mgrad_output\u001b[0m \u001b[0;34m=\u001b[0m \u001b[0mtorch\u001b[0m\u001b[0;34m.\u001b[0m\u001b[0mautograd\u001b[0m\u001b[0;34m.\u001b[0m\u001b[0mgrad\u001b[0m\u001b[0;34m(\u001b[0m\u001b[0mloss\u001b[0m\u001b[0;34m,\u001b[0m \u001b[0moutputs\u001b[0m\u001b[0;34m,\u001b[0m \u001b[0mretain_graph\u001b[0m\u001b[0;34m=\u001b[0m\u001b[0;32mTrue\u001b[0m\u001b[0;34m)\u001b[0m\u001b[0;34m[\u001b[0m\u001b[0;36m0\u001b[0m\u001b[0;34m]\u001b[0m\u001b[0;34m\u001b[0m\u001b[0;34m\u001b[0m\u001b[0m\n\u001b[0;32m--> 140\u001b[0;31m             \u001b[0mgrad_h2\u001b[0m \u001b[0;34m=\u001b[0m \u001b[0mmodel\u001b[0m\u001b[0;34m.\u001b[0m\u001b[0mfc3\u001b[0m\u001b[0;34m.\u001b[0m\u001b[0mbackward\u001b[0m\u001b[0;34m(\u001b[0m\u001b[0mgrad_output\u001b[0m\u001b[0;34m)\u001b[0m\u001b[0;34m\u001b[0m\u001b[0;34m\u001b[0m\u001b[0m\n\u001b[0m\u001b[1;32m    141\u001b[0m             \u001b[0mgrad_h1\u001b[0m \u001b[0;34m=\u001b[0m \u001b[0mmodel\u001b[0m\u001b[0;34m.\u001b[0m\u001b[0mfc2\u001b[0m\u001b[0;34m.\u001b[0m\u001b[0mbackward\u001b[0m\u001b[0;34m(\u001b[0m\u001b[0mgrad_h2\u001b[0m\u001b[0;34m)\u001b[0m\u001b[0;34m\u001b[0m\u001b[0;34m\u001b[0m\u001b[0m\n\u001b[1;32m    142\u001b[0m             \u001b[0mgrad_input\u001b[0m \u001b[0;34m=\u001b[0m \u001b[0mmodel\u001b[0m\u001b[0;34m.\u001b[0m\u001b[0mfc1\u001b[0m\u001b[0;34m.\u001b[0m\u001b[0mbackward\u001b[0m\u001b[0;34m(\u001b[0m\u001b[0mgrad_h1\u001b[0m\u001b[0;34m)\u001b[0m\u001b[0;34m\u001b[0m\u001b[0;34m\u001b[0m\u001b[0m\n",
            "\u001b[0;32m<ipython-input-1-00a3c1b09cfe>\u001b[0m in \u001b[0;36mbackward\u001b[0;34m(self, grad_output)\u001b[0m\n\u001b[1;32m     49\u001b[0m \u001b[0;34m\u001b[0m\u001b[0m\n\u001b[1;32m     50\u001b[0m     \u001b[0;32mdef\u001b[0m \u001b[0mbackward\u001b[0m\u001b[0;34m(\u001b[0m\u001b[0mself\u001b[0m\u001b[0;34m,\u001b[0m \u001b[0mgrad_output\u001b[0m\u001b[0;34m)\u001b[0m\u001b[0;34m:\u001b[0m\u001b[0;34m\u001b[0m\u001b[0;34m\u001b[0m\u001b[0m\n\u001b[0;32m---> 51\u001b[0;31m         \u001b[0;32mreturn\u001b[0m \u001b[0mF\u001b[0m\u001b[0;34m.\u001b[0m\u001b[0mlinear\u001b[0m\u001b[0;34m(\u001b[0m\u001b[0mgrad_output\u001b[0m\u001b[0;34m,\u001b[0m \u001b[0mself\u001b[0m\u001b[0;34m.\u001b[0m\u001b[0mfeedback_weights\u001b[0m\u001b[0;34m)\u001b[0m\u001b[0;34m\u001b[0m\u001b[0;34m\u001b[0m\u001b[0m\n\u001b[0m\u001b[1;32m     52\u001b[0m \u001b[0;34m\u001b[0m\u001b[0m\n\u001b[1;32m     53\u001b[0m \u001b[0;32mclass\u001b[0m \u001b[0mSimpleNNFeedbackAlignment\u001b[0m\u001b[0;34m(\u001b[0m\u001b[0mnn\u001b[0m\u001b[0;34m.\u001b[0m\u001b[0mModule\u001b[0m\u001b[0;34m)\u001b[0m\u001b[0;34m:\u001b[0m\u001b[0;34m\u001b[0m\u001b[0;34m\u001b[0m\u001b[0m\n",
            "\u001b[0;31mRuntimeError\u001b[0m: mat1 and mat2 shapes cannot be multiplied (128x10 and 512x10)"
          ]
        }
      ]
    }
  ]
}